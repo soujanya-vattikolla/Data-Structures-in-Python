{
  "cells": [
    {
      "cell_type": "markdown",
      "metadata": {
        "id": "view-in-github",
        "colab_type": "text"
      },
      "source": [
        "<a href=\"https://colab.research.google.com/github/soujanya-vattikolla/Data-Structures-in-Python/blob/main/RecursionandDynamicProgramming_assignment.ipynb\" target=\"_parent\"><img src=\"https://colab.research.google.com/assets/colab-badge.svg\" alt=\"Open In Colab\"/></a>"
      ]
    },
    {
      "cell_type": "code",
      "execution_count": 1,
      "id": "fc2b943a",
      "metadata": {
        "colab": {
          "base_uri": "https://localhost:8080/"
        },
        "id": "fc2b943a",
        "outputId": "48e62a8a-e790-400f-eb74-827ce7bfcdf2"
      },
      "outputs": [
        {
          "output_type": "stream",
          "name": "stdout",
          "text": [
            "\u001b[?25l\r\u001b[K     |████▊                           | 10 kB 16.2 MB/s eta 0:00:01\r\u001b[K     |█████████▌                      | 20 kB 23.5 MB/s eta 0:00:01\r\u001b[K     |██████████████▎                 | 30 kB 28.7 MB/s eta 0:00:01\r\u001b[K     |███████████████████             | 40 kB 30.4 MB/s eta 0:00:01\r\u001b[K     |███████████████████████▉        | 51 kB 20.6 MB/s eta 0:00:01\r\u001b[K     |████████████████████████████▋   | 61 kB 23.4 MB/s eta 0:00:01\r\u001b[K     |████████████████████████████████| 68 kB 5.0 MB/s \n",
            "\u001b[?25h  Building wheel for uuid (setup.py) ... \u001b[?25l\u001b[?25hdone\n"
          ]
        }
      ],
      "source": [
        "# Jovian Commit Essentials\n",
        "# Please retain and execute this cell without modifying the contents for `jovian.commit` to work\n",
        "!pip install jovian --upgrade -q\n",
        "import jovian"
      ]
    },
    {
      "cell_type": "markdown",
      "id": "4093b326",
      "metadata": {
        "id": "4093b326"
      },
      "source": [
        "## Problem Statement\n",
        "\n",
        "\n",
        "> QUESTION 1: Write a function to find the length of the longest common subsequence between two sequences. E.g. Given the strings \"serendipitous\" and \"precipitation\", the longest common subsequence is \"reipito\" and its length is 7.\n",
        "\n",
        "A \"sequence\" is a group of items with a deterministic ordering. Lists, tuples and ranges are some common sequence types in Python.\n",
        "\n",
        "A \"subsequence\" is a sequence obtained by deleting zero or more elements from another sequence. For example, \"edpt\" is a subsequence of \"serendipitous\".\n",
        "\n",
        "#### General case\n",
        "\n",
        "<img src=\"https://i.imgur.com/ry4Y0wS.png\" width=\"420\">\n"
      ]
    },
    {
      "cell_type": "markdown",
      "id": "90b53663",
      "metadata": {
        "id": "90b53663"
      },
      "source": [
        "## Solution\n",
        "\n",
        "\n",
        "### 1. State the problem clearly. Identify the input & output formats.\n",
        "\n",
        "While this problem is stated clearly enough, it's always useful to try and express in your own words, in a way that makes it most clear for you. \n",
        "\n",
        "\n",
        "**Problem**\n",
        "\n",
        "> We are given two sequences, and we need to find the length of the longest common subsequence between them.\n",
        "\n",
        "<br/>\n",
        "\n",
        "\n",
        "**Input**\n",
        "\n",
        "1. **seq1** A sequence e.g: `'serendipitous'`\n",
        "2. **seq2** A second sequence e.g:`'precipitation'`\n",
        "\n",
        "\n",
        "**Output**\n",
        "\n",
        "1. **len_longcmmnseq**: Length of the longest common subsequence e.g. 7\n",
        "\n",
        "Based on the above, we can now create a signature of our function:"
      ]
    },
    {
      "cell_type": "code",
      "execution_count": 2,
      "id": "94b66dc7",
      "metadata": {
        "id": "94b66dc7"
      },
      "outputs": [],
      "source": [
        "# Create a function signature here. The body of the function can contain a single statement: pass\n",
        "def len_longcmmnseq(seq1,seq2):\n",
        "  pass"
      ]
    },
    {
      "cell_type": "markdown",
      "id": "45586d81",
      "metadata": {
        "id": "45586d81"
      },
      "source": [
        "### 2. Come up with some example inputs & outputs. Try to cover all edge cases.\n",
        "\n",
        "Our function should be able to handle any set of valid inputs we pass into it. Here's a list of some possible variations we might encounter:\n",
        "\n",
        "Test cases\n",
        "\n",
        "1. General case (string)\n",
        "2. General case (list)\n",
        "3. No common subsequence\n",
        "4. One is a subsequence of the other\n",
        "5. One sequence is empty\n",
        "6. Both sequences are empty\n",
        "7. Multiple subsequences with same length\n",
        "    1. “abcdef” and “badcfe”\n"
      ]
    },
    {
      "cell_type": "markdown",
      "source": [
        "Longest common subsequence test cases:"
      ],
      "metadata": {
        "id": "Alqy0Q_uHpV6"
      },
      "id": "Alqy0Q_uHpV6"
    },
    {
      "cell_type": "code",
      "execution_count": 3,
      "id": "da616551",
      "metadata": {
        "id": "da616551"
      },
      "outputs": [],
      "source": [
        "test0 = {\n",
        "    'input': {\n",
        "        'seq1': 'serendipitous',\n",
        "        'seq2': 'precipitation'\n",
        "    },\n",
        "    'output': 7\n",
        "}\n",
        "\n",
        "test1 = {\n",
        "    'input': {\n",
        "        'seq1': [1, 3, 5, 6, 7, 2, 5, 2, 3],\n",
        "        'seq2': [6, 2, 4, 7, 1, 5, 6, 2, 3]\n",
        "    },\n",
        "    'output': 5\n",
        "}\n",
        "\n",
        "test2 = {\n",
        "    'input': {\n",
        "        'seq1': 'longest',\n",
        "        'seq2': 'stone'\n",
        "    },\n",
        "    'output': 3\n",
        "}\n",
        "\n",
        "test3 = {\n",
        "    'input': {\n",
        "        'seq1': 'dense',\n",
        "        'seq2': 'condensed'\n",
        "    },\n",
        "    'output': 5\n",
        "}\n",
        "\n",
        "\n",
        "test4 = {\n",
        "    'input': {\n",
        "        'seq1': '',\n",
        "        'seq2': 'opkpoiklklj'\n",
        "    },\n",
        "    'output': 0\n",
        "}\n",
        "\n",
        "test5 = {\n",
        "    'input': {\n",
        "        'seq1': '',\n",
        "        'seq2': ''\n",
        "    },\n",
        "    'output': 0\n",
        "}\n",
        "\n",
        "test6 = {\n",
        "    'input': {\n",
        "        'seq1': 'abcdef',\n",
        "        'seq2': 'badcfe'\n",
        "    },\n",
        "    'output': 3\n",
        "}\n",
        "\n",
        "test7 = {\n",
        "    'input': {\n",
        "        'seq1': 'asdfwevad',\n",
        "        'seq2': 'opkpoiklklj'\n",
        "    },\n",
        "    'output': 0\n",
        "}"
      ]
    },
    {
      "cell_type": "markdown",
      "id": "eb910b98",
      "metadata": {
        "id": "eb910b98"
      },
      "source": [
        "Create one test case for each of the scenarios listed above. We'll store our test cases in an array called `tests`."
      ]
    },
    {
      "cell_type": "code",
      "execution_count": 4,
      "id": "fd4f44d5",
      "metadata": {
        "id": "fd4f44d5"
      },
      "outputs": [],
      "source": [
        "longcmmnseq_tests = [test0, test1, test2, test3, test4, test5, test6, test7]"
      ]
    },
    {
      "cell_type": "markdown",
      "id": "7d04cf6e",
      "metadata": {
        "id": "7d04cf6e"
      },
      "source": [
        "### 1. Create two counters `idx1` and `idx2` starting at 0. Our recursive function will compute the LCS of `seq1[idx1:]` and `seq2[idx2:]`\n",
        "\n",
        "\n",
        "2. If `seq1[idx1]` and `seq2[idx2]` are equal, then this character belongs to the LCS of `seq1[idx1:]` and `seq2[idx2:]` (why?). Further the length this is LCS is one more than LCS of `seq1[idx1+1:]` and  `seq2[idx2+1:]`\n",
        "\n",
        "<img src=\"https://i.imgur.com/um7LDiX.png\" width=\"400\">\n",
        "\n",
        "3. If not, then the LCS of `seq1[idx1:]` and `seq2[idx2:]` is the longer one among the LCS of `seq1[idx1+1:], seq2[idx2:]` and the LCS of `seq1[idx1:]`, `seq2[idx2+1:]`\n",
        "\n",
        "<img src=\"https://i.imgur.com/DRanmOy.png\" width=\"360\">\n",
        "\n",
        "5. If either `seq1[idx1:]` or `seq2[idx2:]` is empty, then their LCS is empty.\n",
        "\n",
        "The tree of recursive calls looks like:\n",
        "\n",
        "![](https://i.imgur.com/JJrq3KH.png)\n",
        "\n",
        "\n",
        "\n"
      ]
    },
    {
      "cell_type": "markdown",
      "id": "ff39d790",
      "metadata": {
        "id": "ff39d790"
      },
      "source": [
        "###  4. Implement the solution and test it using example inputs. Fix bugs, if any."
      ]
    },
    {
      "cell_type": "code",
      "execution_count": 5,
      "id": "192087cb",
      "metadata": {
        "id": "192087cb"
      },
      "outputs": [],
      "source": [
        "def longcmmnseq_recursive(seq1,seq2,idx1=0,idx2=0):\n",
        "  if(idx1 == len(seq1) or idx2 == len(seq2)):\n",
        "    return 0\n",
        "  elif seq1[idx1] == seq2[idx2]:\n",
        "    return 1 + longcmmnseq_recursive(seq1,seq2,idx1+1,idx2+1)\n",
        "  else:\n",
        "    option1 = longcmmnseq_recursive(seq1, seq2, idx1+1, idx2)\n",
        "    option2 = longcmmnseq_recursive(seq1, seq2, idx1, idx2+1)\n",
        "    return max(option1,option2)\n",
        "\n"
      ]
    },
    {
      "cell_type": "code",
      "source": [
        "test0"
      ],
      "metadata": {
        "colab": {
          "base_uri": "https://localhost:8080/"
        },
        "id": "abqLUniBludS",
        "outputId": "c62a710e-e134-45b8-c98c-4dcb114777e1"
      },
      "id": "abqLUniBludS",
      "execution_count": 6,
      "outputs": [
        {
          "output_type": "execute_result",
          "data": {
            "text/plain": [
              "{'input': {'seq1': 'serendipitous', 'seq2': 'precipitation'}, 'output': 7}"
            ]
          },
          "metadata": {},
          "execution_count": 6
        }
      ]
    },
    {
      "cell_type": "code",
      "execution_count": 7,
      "id": "6b7b65b1",
      "metadata": {
        "colab": {
          "base_uri": "https://localhost:8080/"
        },
        "id": "6b7b65b1",
        "outputId": "828e36d7-7ef2-49e2-c71d-9ba6d48302c3"
      },
      "outputs": [
        {
          "output_type": "stream",
          "name": "stdout",
          "text": [
            "CPU times: user 485 ms, sys: 0 ns, total: 485 ms\n",
            "Wall time: 493 ms\n"
          ]
        },
        {
          "output_type": "execute_result",
          "data": {
            "text/plain": [
              "7"
            ]
          },
          "metadata": {},
          "execution_count": 7
        }
      ],
      "source": [
        "%%time\n",
        "longcmmnseq_recursive(test0['input']['seq1'],test0['input']['seq2'])"
      ]
    },
    {
      "cell_type": "code",
      "execution_count": 8,
      "id": "72c789a9",
      "metadata": {
        "colab": {
          "base_uri": "https://localhost:8080/"
        },
        "id": "72c789a9",
        "outputId": "6266abbe-cdde-4ffb-941b-0246492d5385"
      },
      "outputs": [
        {
          "output_type": "execute_result",
          "data": {
            "text/plain": [
              "True"
            ]
          },
          "metadata": {},
          "execution_count": 8
        }
      ],
      "source": [
        "# check if it is true or false\n",
        "longcmmnseq_recursive(test0['input']['seq1'],test0['input']['seq2']) == test0['output']"
      ]
    },
    {
      "cell_type": "code",
      "execution_count": 9,
      "id": "c6e3bc5a",
      "metadata": {
        "colab": {
          "base_uri": "https://localhost:8080/"
        },
        "id": "c6e3bc5a",
        "outputId": "e0397ed8-4976-40de-8aa5-36ad4790a8ae"
      },
      "outputs": [
        {
          "output_type": "execute_result",
          "data": {
            "text/plain": [
              "True"
            ]
          },
          "metadata": {},
          "execution_count": 9
        }
      ],
      "source": [
        "# other way of writing the above statement\n",
        "longcmmnseq_recursive(**test0['input']) == test0['output']"
      ]
    },
    {
      "cell_type": "code",
      "source": [
        "from jovian.pythondsa import evaluate_test_cases"
      ],
      "metadata": {
        "id": "66TkKhUXmT60"
      },
      "id": "66TkKhUXmT60",
      "execution_count": 10,
      "outputs": []
    },
    {
      "cell_type": "code",
      "source": [
        "evaluate_test_cases(longcmmnseq_recursive, longcmmnseq_tests)"
      ],
      "metadata": {
        "colab": {
          "base_uri": "https://localhost:8080/"
        },
        "id": "pflBobOLmfVY",
        "outputId": "02758653-518d-46c2-a54b-472c09c46eca"
      },
      "id": "pflBobOLmfVY",
      "execution_count": 11,
      "outputs": [
        {
          "output_type": "stream",
          "name": "stdout",
          "text": [
            "\n",
            "\u001b[1mTEST CASE #0\u001b[0m\n",
            "\n",
            "Input:\n",
            "{'seq1': 'serendipitous', 'seq2': 'precipitation'}\n",
            "\n",
            "Expected Output:\n",
            "7\n",
            "\n",
            "\n",
            "Actual Output:\n",
            "7\n",
            "\n",
            "Execution Time:\n",
            "510.754 ms\n",
            "\n",
            "Test Result:\n",
            "\u001b[92mPASSED\u001b[0m\n",
            "\n",
            "\n",
            "\u001b[1mTEST CASE #1\u001b[0m\n",
            "\n",
            "Input:\n",
            "{'seq1': [1, 3, 5, 6, 7, 2, 5, 2, 3], 'seq2': [6, 2, 4, 7, 1, 5, 6, 2, 3]}\n",
            "\n",
            "Expected Output:\n",
            "5\n",
            "\n",
            "\n",
            "Actual Output:\n",
            "5\n",
            "\n",
            "Execution Time:\n",
            "8.196 ms\n",
            "\n",
            "Test Result:\n",
            "\u001b[92mPASSED\u001b[0m\n",
            "\n",
            "\n",
            "\u001b[1mTEST CASE #2\u001b[0m\n",
            "\n",
            "Input:\n",
            "{'seq1': 'longest', 'seq2': 'stone'}\n",
            "\n",
            "Expected Output:\n",
            "3\n",
            "\n",
            "\n",
            "Actual Output:\n",
            "3\n",
            "\n",
            "Execution Time:\n",
            "0.328 ms\n",
            "\n",
            "Test Result:\n",
            "\u001b[92mPASSED\u001b[0m\n",
            "\n",
            "\n",
            "\u001b[1mTEST CASE #3\u001b[0m\n",
            "\n",
            "Input:\n",
            "{'seq1': 'dense', 'seq2': 'condensed'}\n",
            "\n",
            "Expected Output:\n",
            "5\n",
            "\n",
            "\n",
            "Actual Output:\n",
            "5\n",
            "\n",
            "Execution Time:\n",
            "0.19 ms\n",
            "\n",
            "Test Result:\n",
            "\u001b[92mPASSED\u001b[0m\n",
            "\n",
            "\n",
            "\u001b[1mTEST CASE #4\u001b[0m\n",
            "\n",
            "Input:\n",
            "{'seq1': '', 'seq2': 'opkpoiklklj'}\n",
            "\n",
            "Expected Output:\n",
            "0\n",
            "\n",
            "\n",
            "Actual Output:\n",
            "0\n",
            "\n",
            "Execution Time:\n",
            "0.003 ms\n",
            "\n",
            "Test Result:\n",
            "\u001b[92mPASSED\u001b[0m\n",
            "\n",
            "\n",
            "\u001b[1mTEST CASE #5\u001b[0m\n",
            "\n",
            "Input:\n",
            "{'seq1': '', 'seq2': ''}\n",
            "\n",
            "Expected Output:\n",
            "0\n",
            "\n",
            "\n",
            "Actual Output:\n",
            "0\n",
            "\n",
            "Execution Time:\n",
            "0.002 ms\n",
            "\n",
            "Test Result:\n",
            "\u001b[92mPASSED\u001b[0m\n",
            "\n",
            "\n",
            "\u001b[1mTEST CASE #6\u001b[0m\n",
            "\n",
            "Input:\n",
            "{'seq1': 'abcdef', 'seq2': 'badcfe'}\n",
            "\n",
            "Expected Output:\n",
            "3\n",
            "\n",
            "\n",
            "Actual Output:\n",
            "3\n",
            "\n",
            "Execution Time:\n",
            "0.084 ms\n",
            "\n",
            "Test Result:\n",
            "\u001b[92mPASSED\u001b[0m\n",
            "\n",
            "\n",
            "\u001b[1mTEST CASE #7\u001b[0m\n",
            "\n",
            "Input:\n",
            "{'seq1': 'asdfwevad', 'seq2': 'opkpoiklklj'}\n",
            "\n",
            "Expected Output:\n",
            "0\n",
            "\n",
            "\n",
            "Actual Output:\n",
            "0\n",
            "\n",
            "Execution Time:\n",
            "154.16 ms\n",
            "\n",
            "Test Result:\n",
            "\u001b[92mPASSED\u001b[0m\n",
            "\n",
            "\n",
            "\u001b[1mSUMMARY\u001b[0m\n",
            "\n",
            "TOTAL: 8, \u001b[92mPASSED\u001b[0m: 8, \u001b[91mFAILED\u001b[0m: 0\n"
          ]
        },
        {
          "output_type": "execute_result",
          "data": {
            "text/plain": [
              "[(7, True, 510.754),\n",
              " (5, True, 8.196),\n",
              " (3, True, 0.328),\n",
              " (5, True, 0.19),\n",
              " (0, True, 0.003),\n",
              " (0, True, 0.002),\n",
              " (3, True, 0.084),\n",
              " (0, True, 154.16)]"
            ]
          },
          "metadata": {},
          "execution_count": 11
        }
      ]
    },
    {
      "cell_type": "markdown",
      "id": "933d943a",
      "metadata": {
        "id": "933d943a"
      },
      "source": [
        "### 5. Analyze the algorithm's complexity and identify inefficiencies, if any.<br>\n",
        "Based on the above can you infer that the time complexity is $O(2^{m+n})$."
      ]
    },
    {
      "cell_type": "code",
      "execution_count": 12,
      "id": "524d5449",
      "metadata": {
        "id": "524d5449"
      },
      "outputs": [],
      "source": [
        "def longcmmnseq_memo(seq1,seq2):\n",
        "  memo = {}\n",
        "  def recurse(idx1=0 , idx2=0):\n",
        "    key = (idx1,idx2)\n",
        "    if key in memo:\n",
        "      return memo[key]\n",
        "    elif idx1 == len(seq1) or idx2 == len(seq2):\n",
        "        memo[key] = 0\n",
        "    elif seq1[idx1] == seq2[idx2]:\n",
        "        memo[key] = 1+recurse(idx1+1, idx2+1)\n",
        "    else:\n",
        "        memo[key] = max(recurse(idx1+1, idx2),recurse(idx1,idx2+1))\n",
        "    return memo[key]\n",
        "  return recurse(0,0)\n",
        "\n"
      ]
    },
    {
      "cell_type": "code",
      "execution_count": 13,
      "id": "96ab65cc",
      "metadata": {
        "colab": {
          "base_uri": "https://localhost:8080/"
        },
        "id": "96ab65cc",
        "outputId": "35dd4d43-485e-4275-fdb3-b7fda1cacdfd"
      },
      "outputs": [
        {
          "output_type": "stream",
          "name": "stdout",
          "text": [
            "\n",
            "\u001b[1mTEST CASE #0\u001b[0m\n",
            "\n",
            "Input:\n",
            "{'seq1': 'serendipitous', 'seq2': 'precipitation'}\n",
            "\n",
            "Expected Output:\n",
            "7\n",
            "\n",
            "\n",
            "Actual Output:\n",
            "7\n",
            "\n",
            "Execution Time:\n",
            "0.351 ms\n",
            "\n",
            "Test Result:\n",
            "\u001b[92mPASSED\u001b[0m\n",
            "\n",
            "\n",
            "\u001b[1mTEST CASE #1\u001b[0m\n",
            "\n",
            "Input:\n",
            "{'seq1': [1, 3, 5, 6, 7, 2, 5, 2, 3], 'seq2': [6, 2, 4, 7, 1, 5, 6, 2, 3]}\n",
            "\n",
            "Expected Output:\n",
            "5\n",
            "\n",
            "\n",
            "Actual Output:\n",
            "5\n",
            "\n",
            "Execution Time:\n",
            "0.145 ms\n",
            "\n",
            "Test Result:\n",
            "\u001b[92mPASSED\u001b[0m\n",
            "\n",
            "\n",
            "\u001b[1mTEST CASE #2\u001b[0m\n",
            "\n",
            "Input:\n",
            "{'seq1': 'longest', 'seq2': 'stone'}\n",
            "\n",
            "Expected Output:\n",
            "3\n",
            "\n",
            "\n",
            "Actual Output:\n",
            "3\n",
            "\n",
            "Execution Time:\n",
            "0.464 ms\n",
            "\n",
            "Test Result:\n",
            "\u001b[92mPASSED\u001b[0m\n",
            "\n",
            "\n",
            "\u001b[1mTEST CASE #3\u001b[0m\n",
            "\n",
            "Input:\n",
            "{'seq1': 'dense', 'seq2': 'condensed'}\n",
            "\n",
            "Expected Output:\n",
            "5\n",
            "\n",
            "\n",
            "Actual Output:\n",
            "5\n",
            "\n",
            "Execution Time:\n",
            "0.063 ms\n",
            "\n",
            "Test Result:\n",
            "\u001b[92mPASSED\u001b[0m\n",
            "\n",
            "\n",
            "\u001b[1mTEST CASE #4\u001b[0m\n",
            "\n",
            "Input:\n",
            "{'seq1': '', 'seq2': 'opkpoiklklj'}\n",
            "\n",
            "Expected Output:\n",
            "0\n",
            "\n",
            "\n",
            "Actual Output:\n",
            "0\n",
            "\n",
            "Execution Time:\n",
            "0.005 ms\n",
            "\n",
            "Test Result:\n",
            "\u001b[92mPASSED\u001b[0m\n",
            "\n",
            "\n",
            "\u001b[1mTEST CASE #5\u001b[0m\n",
            "\n",
            "Input:\n",
            "{'seq1': '', 'seq2': ''}\n",
            "\n",
            "Expected Output:\n",
            "0\n",
            "\n",
            "\n",
            "Actual Output:\n",
            "0\n",
            "\n",
            "Execution Time:\n",
            "0.005 ms\n",
            "\n",
            "Test Result:\n",
            "\u001b[92mPASSED\u001b[0m\n",
            "\n",
            "\n",
            "\u001b[1mTEST CASE #6\u001b[0m\n",
            "\n",
            "Input:\n",
            "{'seq1': 'abcdef', 'seq2': 'badcfe'}\n",
            "\n",
            "Expected Output:\n",
            "3\n",
            "\n",
            "\n",
            "Actual Output:\n",
            "3\n",
            "\n",
            "Execution Time:\n",
            "0.062 ms\n",
            "\n",
            "Test Result:\n",
            "\u001b[92mPASSED\u001b[0m\n",
            "\n",
            "\n",
            "\u001b[1mTEST CASE #7\u001b[0m\n",
            "\n",
            "Input:\n",
            "{'seq1': 'asdfwevad', 'seq2': 'opkpoiklklj'}\n",
            "\n",
            "Expected Output:\n",
            "0\n",
            "\n",
            "\n",
            "Actual Output:\n",
            "0\n",
            "\n",
            "Execution Time:\n",
            "0.185 ms\n",
            "\n",
            "Test Result:\n",
            "\u001b[92mPASSED\u001b[0m\n",
            "\n",
            "\n",
            "\u001b[1mSUMMARY\u001b[0m\n",
            "\n",
            "TOTAL: 8, \u001b[92mPASSED\u001b[0m: 8, \u001b[91mFAILED\u001b[0m: 0\n"
          ]
        },
        {
          "output_type": "execute_result",
          "data": {
            "text/plain": [
              "[(7, True, 0.351),\n",
              " (5, True, 0.145),\n",
              " (3, True, 0.464),\n",
              " (5, True, 0.063),\n",
              " (0, True, 0.005),\n",
              " (0, True, 0.005),\n",
              " (3, True, 0.062),\n",
              " (0, True, 0.185)]"
            ]
          },
          "metadata": {},
          "execution_count": 13
        }
      ],
      "source": [
        "evaluate_test_cases(longcmmnseq_memo,longcmmnseq_tests)"
      ]
    },
    {
      "cell_type": "markdown",
      "id": "ae4ffd4d",
      "metadata": {
        "id": "ae4ffd4d"
      },
      "source": [
        "### Implement the solution using dynamic programming and test it using example inputs. Fix bugs, if any."
      ]
    },
    {
      "cell_type": "code",
      "source": [
        "# creating a table\n",
        "n1,n2 = 5,7\n",
        "[[0 for x in range(n2)] for x in range(n1)]"
      ],
      "metadata": {
        "colab": {
          "base_uri": "https://localhost:8080/"
        },
        "id": "6rBEihkmJH1d",
        "outputId": "42d8f330-3c1e-488a-8c05-e88cc8844b6c"
      },
      "id": "6rBEihkmJH1d",
      "execution_count": 14,
      "outputs": [
        {
          "output_type": "execute_result",
          "data": {
            "text/plain": [
              "[[0, 0, 0, 0, 0, 0, 0],\n",
              " [0, 0, 0, 0, 0, 0, 0],\n",
              " [0, 0, 0, 0, 0, 0, 0],\n",
              " [0, 0, 0, 0, 0, 0, 0],\n",
              " [0, 0, 0, 0, 0, 0, 0]]"
            ]
          },
          "metadata": {},
          "execution_count": 14
        }
      ]
    },
    {
      "cell_type": "code",
      "execution_count": 15,
      "id": "fc61955b",
      "metadata": {
        "id": "fc61955b"
      },
      "outputs": [],
      "source": [
        "def longcmmnseq_dynprog(seq1,seq2):\n",
        "    n1,n2 = len(seq1),len(seq2)\n",
        "    table = [[0 for x in range(n2+1)] for x in range(n1+1)]  # creating a table\n",
        "    for i in range(n1): # iterate over rows\n",
        "      for j in range(n2): # iterate over columns\n",
        "          if seq1[i] == seq2[j]:\n",
        "             table[i+1][j+1] = 1+table[i][j]\n",
        "          else:\n",
        "            table[i+1][j+1] = max(table[i][j+1], table[i+1][j])    \n",
        "    return table[-1][-1] # return last row,last column"
      ]
    },
    {
      "cell_type": "code",
      "execution_count": 16,
      "id": "11d6aa4a",
      "metadata": {
        "colab": {
          "base_uri": "https://localhost:8080/"
        },
        "id": "11d6aa4a",
        "outputId": "ad8e9b50-8e72-4c29-cbf8-4b1431d33b26"
      },
      "outputs": [
        {
          "output_type": "stream",
          "name": "stdout",
          "text": [
            "\n",
            "\u001b[1mTEST CASE #0\u001b[0m\n",
            "\n",
            "Input:\n",
            "{'seq1': 'serendipitous', 'seq2': 'precipitation'}\n",
            "\n",
            "Expected Output:\n",
            "7\n",
            "\n",
            "\n",
            "Actual Output:\n",
            "7\n",
            "\n",
            "Execution Time:\n",
            "0.169 ms\n",
            "\n",
            "Test Result:\n",
            "\u001b[92mPASSED\u001b[0m\n",
            "\n",
            "\n",
            "\u001b[1mTEST CASE #1\u001b[0m\n",
            "\n",
            "Input:\n",
            "{'seq1': [1, 3, 5, 6, 7, 2, 5, 2, 3], 'seq2': [6, 2, 4, 7, 1, 5, 6, 2, 3]}\n",
            "\n",
            "Expected Output:\n",
            "5\n",
            "\n",
            "\n",
            "Actual Output:\n",
            "5\n",
            "\n",
            "Execution Time:\n",
            "0.127 ms\n",
            "\n",
            "Test Result:\n",
            "\u001b[92mPASSED\u001b[0m\n",
            "\n",
            "\n",
            "\u001b[1mTEST CASE #2\u001b[0m\n",
            "\n",
            "Input:\n",
            "{'seq1': 'longest', 'seq2': 'stone'}\n",
            "\n",
            "Expected Output:\n",
            "3\n",
            "\n",
            "\n",
            "Actual Output:\n",
            "3\n",
            "\n",
            "Execution Time:\n",
            "0.053 ms\n",
            "\n",
            "Test Result:\n",
            "\u001b[92mPASSED\u001b[0m\n",
            "\n",
            "\n",
            "\u001b[1mTEST CASE #3\u001b[0m\n",
            "\n",
            "Input:\n",
            "{'seq1': 'dense', 'seq2': 'condensed'}\n",
            "\n",
            "Expected Output:\n",
            "5\n",
            "\n",
            "\n",
            "Actual Output:\n",
            "5\n",
            "\n",
            "Execution Time:\n",
            "0.058 ms\n",
            "\n",
            "Test Result:\n",
            "\u001b[92mPASSED\u001b[0m\n",
            "\n",
            "\n",
            "\u001b[1mTEST CASE #4\u001b[0m\n",
            "\n",
            "Input:\n",
            "{'seq1': '', 'seq2': 'opkpoiklklj'}\n",
            "\n",
            "Expected Output:\n",
            "0\n",
            "\n",
            "\n",
            "Actual Output:\n",
            "0\n",
            "\n",
            "Execution Time:\n",
            "0.007 ms\n",
            "\n",
            "Test Result:\n",
            "\u001b[92mPASSED\u001b[0m\n",
            "\n",
            "\n",
            "\u001b[1mTEST CASE #5\u001b[0m\n",
            "\n",
            "Input:\n",
            "{'seq1': '', 'seq2': ''}\n",
            "\n",
            "Expected Output:\n",
            "0\n",
            "\n",
            "\n",
            "Actual Output:\n",
            "0\n",
            "\n",
            "Execution Time:\n",
            "0.016 ms\n",
            "\n",
            "Test Result:\n",
            "\u001b[92mPASSED\u001b[0m\n",
            "\n",
            "\n",
            "\u001b[1mTEST CASE #6\u001b[0m\n",
            "\n",
            "Input:\n",
            "{'seq1': 'abcdef', 'seq2': 'badcfe'}\n",
            "\n",
            "Expected Output:\n",
            "3\n",
            "\n",
            "\n",
            "Actual Output:\n",
            "3\n",
            "\n",
            "Execution Time:\n",
            "0.059 ms\n",
            "\n",
            "Test Result:\n",
            "\u001b[92mPASSED\u001b[0m\n",
            "\n",
            "\n",
            "\u001b[1mTEST CASE #7\u001b[0m\n",
            "\n",
            "Input:\n",
            "{'seq1': 'asdfwevad', 'seq2': 'opkpoiklklj'}\n",
            "\n",
            "Expected Output:\n",
            "0\n",
            "\n",
            "\n",
            "Actual Output:\n",
            "0\n",
            "\n",
            "Execution Time:\n",
            "0.129 ms\n",
            "\n",
            "Test Result:\n",
            "\u001b[92mPASSED\u001b[0m\n",
            "\n",
            "\n",
            "\u001b[1mSUMMARY\u001b[0m\n",
            "\n",
            "TOTAL: 8, \u001b[92mPASSED\u001b[0m: 8, \u001b[91mFAILED\u001b[0m: 0\n"
          ]
        },
        {
          "output_type": "execute_result",
          "data": {
            "text/plain": [
              "[(7, True, 0.169),\n",
              " (5, True, 0.127),\n",
              " (3, True, 0.053),\n",
              " (5, True, 0.058),\n",
              " (0, True, 0.007),\n",
              " (0, True, 0.016),\n",
              " (3, True, 0.059),\n",
              " (0, True, 0.129)]"
            ]
          },
          "metadata": {},
          "execution_count": 16
        }
      ],
      "source": [
        "evaluate_test_cases(longcmmnseq_dynprog,longcmmnseq_tests)"
      ]
    },
    {
      "cell_type": "markdown",
      "source": [
        "**Recursion Vs Dynamic Programming**\n",
        "\n",
        "1.  Recursion helps to break down the problem into subproblems which are easier to solve.During recursion, there may exist a case where same sub-problems are solved multiple times.\n",
        "2.  Dynamic Programming is a technique which uses a table to store the results of sub-problem so that if same sub-problem is encountered again in future, it could directly return the result instead of re-calculating it.\n",
        "\n"
      ],
      "metadata": {
        "id": "JQ9fJpPghAgZ"
      },
      "id": "JQ9fJpPghAgZ"
    }
  ],
  "metadata": {
    "kernelspec": {
      "display_name": "Python 3",
      "language": "python",
      "name": "python3"
    },
    "language_info": {
      "codemirror_mode": {
        "name": "ipython",
        "version": 3
      },
      "file_extension": ".py",
      "mimetype": "text/x-python",
      "name": "python",
      "nbconvert_exporter": "python",
      "pygments_lexer": "ipython3",
      "version": "3.8.6"
    },
    "colab": {
      "name": "Recursion_and_Dynamic_Programming_assignment.ipynb",
      "provenance": [],
      "collapsed_sections": [],
      "include_colab_link": true
    }
  },
  "nbformat": 4,
  "nbformat_minor": 5
}