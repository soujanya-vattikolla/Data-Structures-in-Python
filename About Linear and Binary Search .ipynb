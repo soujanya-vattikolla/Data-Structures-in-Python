{
  "nbformat": 4,
  "nbformat_minor": 0,
  "metadata": {
    "colab": {
      "name": "About Linear Search and Binary Search .ipynb",
      "provenance": [],
      "collapsed_sections": [],
      "authorship_tag": "ABX9TyPK96bsakWycoEYHEXVQbiI",
      "include_colab_link": true
    },
    "kernelspec": {
      "name": "python3",
      "display_name": "Python 3"
    },
    "language_info": {
      "name": "python"
    }
  },
  "cells": [
    {
      "cell_type": "markdown",
      "metadata": {
        "id": "view-in-github",
        "colab_type": "text"
      },
      "source": [
        "<a href=\"https://colab.research.google.com/github/soujanya-vattikolla/Data-Structures-in-Python/blob/main/About%20Linear%20and%20Binary%20Search%20.ipynb\" target=\"_parent\"><img src=\"https://colab.research.google.com/assets/colab-badge.svg\" alt=\"Open In Colab\"/></a>"
      ]
    },
    {
      "cell_type": "markdown",
      "source": [
        "**Linear search**\n"
      ],
      "metadata": {
        "id": "QgK04R63dxRB"
      }
    },
    {
      "cell_type": "markdown",
      "source": [
        "\n",
        "\n",
        "*   A linear search is also known as a sequential search that simply scans each element at a time. \n",
        "*   The elements don't need to be arranged in sorted order.\n",
        "*   It can be implemented on both a single and multidimensional array.\n",
        "\n",
        "\n",
        "\n",
        "\n"
      ],
      "metadata": {
        "id": "BBHk6Z1Ud5db"
      }
    },
    {
      "cell_type": "markdown",
      "source": [
        "**Binary search**"
      ],
      "metadata": {
        "id": "KNcAzm9FeumA"
      }
    },
    {
      "cell_type": "markdown",
      "source": [
        "\n",
        "\n",
        "*   A binary search is a search in which the middle element is calculated to check whether it is smaller or larger than the element which is to be searched.\n",
        "*   The pre-condition for the binary search is that the elements must be arranged in a sorted order.\n",
        "*  It can be implemented only on a multidimensional array.\n",
        "\n"
      ],
      "metadata": {
        "id": "FE0IqnMteMnK"
      }
    },
    {
      "cell_type": "code",
      "source": [
        ""
      ],
      "metadata": {
        "id": "iZZ4fd9-ewki"
      },
      "execution_count": null,
      "outputs": []
    }
  ]
}