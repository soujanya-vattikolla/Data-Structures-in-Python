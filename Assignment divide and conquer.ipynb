{
  "cells": [
    {
      "cell_type": "markdown",
      "metadata": {
        "id": "view-in-github",
        "colab_type": "text"
      },
      "source": [
        "<a href=\"https://colab.research.google.com/github/soujanya-vattikolla/Data-Structures-in-Python/blob/main/Assignment%20divide%20and%20conquer.ipynb\" target=\"_parent\"><img src=\"https://colab.research.google.com/assets/colab-badge.svg\" alt=\"Open In Colab\"/></a>"
      ]
    },
    {
      "cell_type": "code",
      "execution_count": 1,
      "id": "0fbc39d1",
      "metadata": {
        "colab": {
          "base_uri": "https://localhost:8080/"
        },
        "id": "0fbc39d1",
        "outputId": "c216ee1c-8450-42c9-db66-88f53fef76e5"
      },
      "outputs": [
        {
          "output_type": "stream",
          "name": "stdout",
          "text": [
            "\u001b[?25l\r\u001b[K     |████▊                           | 10 kB 19.3 MB/s eta 0:00:01\r\u001b[K     |█████████▌                      | 20 kB 25.0 MB/s eta 0:00:01\r\u001b[K     |██████████████▎                 | 30 kB 14.6 MB/s eta 0:00:01\r\u001b[K     |███████████████████             | 40 kB 10.8 MB/s eta 0:00:01\r\u001b[K     |███████████████████████▉        | 51 kB 4.8 MB/s eta 0:00:01\r\u001b[K     |████████████████████████████▋   | 61 kB 5.5 MB/s eta 0:00:01\r\u001b[K     |████████████████████████████████| 68 kB 2.9 MB/s \n",
            "\u001b[?25h  Building wheel for uuid (setup.py) ... \u001b[?25l\u001b[?25hdone\n"
          ]
        }
      ],
      "source": [
        "# Jovian Commit Essentials\n",
        "# Please retain and execute this cell without modifying the contents for `jovian.commit` to work\n",
        "!pip install jovian --upgrade -q\n",
        "import jovian"
      ]
    },
    {
      "cell_type": "markdown",
      "id": "final-database",
      "metadata": {
        "id": "final-database"
      },
      "source": [
        "## Problem Statement - Polynomial Multiplication\n",
        "\n",
        "> Given two polynomials represented by two lists, write a function that efficiently multiplies given two polynomials. For example, the lists `[2, 0, 5, 7]` and `[3, 4, 2]` represent the polynomials $2 + 5x^2 + 7x^3$ and $3 + 4x + 2x^2$. \n",
        "> \n",
        "> Their product is \n",
        ">\n",
        "> $(2 \\times 3) + (2 \\times 4 + 0 \\times 3)x + (2 \\times 2 + 3 \\times 5 + 4 \\times 0)x^2 + (7 \\times 3 + 5 \\times 4 + 0 \\times 2)x^3 + (7 \\times 4 + 5 \\times 2)x^4 + (7 \\times 2)x^5$ i.e. \n",
        ">\n",
        ">$6 + 8x + 19x^2 + 41x^3 + 38x^4 + 14x^5$\n",
        "> \n",
        ">It can be represented by the list `[6, 8, 19, 41, 38, 14]`.\n"
      ]
    },
    {
      "cell_type": "markdown",
      "id": "completed-evolution",
      "metadata": {
        "id": "completed-evolution"
      },
      "source": [
        "## The Method\n",
        "\n",
        "Here's the systematic strategy we'll apply for solving problems:\n",
        "\n",
        "1. State the problem clearly. Identify the input & output formats.\n",
        "2. Come up with some example inputs & outputs. Try to cover all edge cases.\n",
        "3. Come up with a correct solution for the problem. State it in plain English.\n",
        "4. Implement the solution and test it using example inputs. Fix bugs, if any.\n",
        "5. Analyze the algorithm's complexity and identify inefficiencies, if any.\n",
        "6. Apply the right technique to overcome the inefficiency. Repeat steps 3 to 6.\n"
      ]
    },
    {
      "cell_type": "markdown",
      "id": "compressed-intellectual",
      "metadata": {
        "id": "compressed-intellectual"
      },
      "source": [
        "## Solution\n",
        "\n",
        "\n",
        "### 1. State the problem clearly. Identify the input & output formats.\n",
        "\n",
        "While this problem is stated clearly enough, it's always useful to try and express in your own words, in a way that makes it most clear for you. \n",
        "\n",
        "\n",
        "**Problem**\n",
        "\n",
        "Given two polynomials represented by two lists, write a function that efficiently multiplies given two polynomials.\n",
        "\n",
        "<br/>\n",
        "\n",
        "\n",
        "**Input**\n",
        "\n",
        "1. polynomial1 \n",
        "2. polynomial2\n",
        "\n",
        "\n",
        "\n",
        "**Output**\n",
        "\n",
        "1. product of given polynomials\n",
        "\n",
        "\n",
        "<br/>\n",
        "\n",
        "Based on the above, we can now create a signature of our function:"
      ]
    },
    {
      "cell_type": "code",
      "execution_count": 2,
      "id": "frank-professor",
      "metadata": {
        "id": "frank-professor"
      },
      "outputs": [],
      "source": [
        "def multiply(poly1, poly2):\n",
        "    pass"
      ]
    },
    {
      "cell_type": "code",
      "execution_count": 3,
      "id": "unauthorized-amendment",
      "metadata": {
        "id": "unauthorized-amendment"
      },
      "outputs": [],
      "source": [
        "import jovian"
      ]
    },
    {
      "cell_type": "markdown",
      "id": "latin-choir",
      "metadata": {
        "id": "latin-choir"
      },
      "source": [
        "### 2. Come up with some example inputs & outputs. Try to cover all edge cases.\n",
        "\n",
        "Our function should be able to handle any set of valid inputs we pass into it. List a few scenarios here:\n",
        "\n",
        "1. An empty list.\n",
        "\n",
        "2. A list containing just one element\n",
        "\n",
        "3. A really large list.\n",
        "\n",
        "4. All list elements are zero\n",
        "\n",
        "5. Both list are empty\n",
        "\n",
        "\n",
        "Create a test case of each of the above scenarios. We'll express our test cases as dictionaries, to test them easily. Each dictionary will contain 2 keys: `input` (a dictionary itself containing one key for each argument to the function and `output` (the expected result from the function). "
      ]
    },
    {
      "cell_type": "code",
      "execution_count": 4,
      "id": "fancy-exhaust",
      "metadata": {
        "id": "fancy-exhaust"
      },
      "outputs": [],
      "source": [
        "test0 = {\n",
        "    'input': {\n",
        "        'poly1': [2, 0, 5, 7],\n",
        "        'poly2': [3, 4, 2]\n",
        "    },\n",
        "    'output': [6, 8, 19, 41, 38, 14]\n",
        "}"
      ]
    },
    {
      "cell_type": "code",
      "execution_count": 5,
      "id": "featured-poster",
      "metadata": {
        "id": "featured-poster"
      },
      "outputs": [],
      "source": [
        "# An empty list\n",
        "test1 = {\n",
        "    'input': {\n",
        "        'poly1': [],\n",
        "        'poly2': []\n",
        "    },\n",
        "    'output': []\n",
        "}"
      ]
    },
    {
      "cell_type": "code",
      "execution_count": 6,
      "id": "matched-horizon",
      "metadata": {
        "id": "matched-horizon"
      },
      "outputs": [],
      "source": [
        "test2 = {\n",
        "    'input': {\n",
        "        'poly1': [8,7,6],\n",
        "        'poly2': [1,2]\n",
        "    },\n",
        "    'output': [8,23,20,12]\n",
        "}"
      ]
    },
    {
      "cell_type": "code",
      "execution_count": 7,
      "id": "functional-personal",
      "metadata": {
        "id": "functional-personal"
      },
      "outputs": [],
      "source": [
        "test3 = {\n",
        "    'input': {\n",
        "        'poly1': [0,0,0],\n",
        "        'poly2': [0,0,0]\n",
        "    },\n",
        "    'output': [0,0,0,0,0]\n",
        "}"
      ]
    },
    {
      "cell_type": "code",
      "execution_count": 8,
      "id": "useful-alaska",
      "metadata": {
        "id": "useful-alaska"
      },
      "outputs": [],
      "source": [
        "test4 = {\n",
        "    'input': {\n",
        "        'poly1': [7,6,5],\n",
        "        'poly2': [7,6,5]\n",
        "    },\n",
        "    'output': [49,84,106,60,25]\n",
        "}"
      ]
    },
    {
      "cell_type": "code",
      "execution_count": 9,
      "id": "split-opportunity",
      "metadata": {
        "id": "split-opportunity"
      },
      "outputs": [],
      "source": [
        "test5 = {\n",
        "    'input': {\n",
        "        'poly1': [12,6,5],\n",
        "        'poly2': [12,6,5]\n",
        "    },\n",
        "    'output': [144,144,156,60,25]\n",
        "}"
      ]
    },
    {
      "cell_type": "markdown",
      "id": "extreme-membrane",
      "metadata": {
        "id": "extreme-membrane"
      },
      "source": [
        "Let's store all the test cases in a list, for easier automated testing."
      ]
    },
    {
      "cell_type": "code",
      "execution_count": 10,
      "id": "emerging-request",
      "metadata": {
        "id": "emerging-request"
      },
      "outputs": [],
      "source": [
        "tests = [test0,test1,test2,test3,test4,test5]"
      ]
    },
    {
      "cell_type": "markdown",
      "id": "satellite-exclusion",
      "metadata": {
        "id": "satellite-exclusion"
      },
      "source": [
        "### 3. Come up with a correct solution for the problem. State it in plain English.\n",
        "\n",
        "Our first goal should always be to come up with a _correct_ solution to the problem, which may not necessarily be the most _efficient_ solution. \n",
        "\n",
        "Here's the simplest solution: If you have lists `poly1` and `poly2` representing polynomials of length $m$ and $n$ respectively, the highest degree of the exponents are $m-1$ and $n-1$ respectively. Their product has the degree $(m - 1) + (n - 1)$ i.e $m + n - 2$. The list representing the product has the length $m + n - 1$. So, we can create a list `result` of length $m + n - 1$, and set \n",
        "\n",
        "`result[k]` = Sum of all the pairs `poly1[i] * poly2[j]` where `i+j = k`\n",
        "\n",
        "Example:\n",
        "\n",
        "$(2 + 5x^2 + 7x^3) \\times (3 + 4x + 2x^2)$\n",
        "\n",
        "$= (2 \\times 3) + (2 \\times 4 + 0 \\times 3)x + (2 \\times 2 + 3 \\times 5 + 4 \\times 0)x^2 + (7 \\times 3 + 5 \\times 4 + 0 \\times 2)x^3 + (7 \\times 4 + 5 \\times 2)x^4 + (7 \\times 2)x^5$\n",
        "\n",
        "$= 6 + 8x + 19x^2 + 41x^3 + 38x^4 + 14x^5$\n",
        "\n",
        "\n"
      ]
    },
    {
      "cell_type": "markdown",
      "id": "lucky-boxing",
      "metadata": {
        "id": "lucky-boxing"
      },
      "source": [
        "###  4. Implement the solution and test it using example inputs. Fix bugs, if any.\n",
        "\n",
        "Implement the solution"
      ]
    },
    {
      "cell_type": "code",
      "execution_count": 11,
      "id": "grateful-chile",
      "metadata": {
        "id": "grateful-chile"
      },
      "outputs": [],
      "source": [
        "def multiply_basic(poly1, poly2):\n",
        "    m=len(poly1)\n",
        "    n=len(poly2)\n",
        "    A=poly1\n",
        "    B=poly2\n",
        "    prod = [0] * (m + n - 1); \n",
        "      \n",
        "    # Multiply two polynomials term by term \n",
        "      \n",
        "    # Take ever term of first polynomial \n",
        "    for i in range(m): \n",
        "          \n",
        "        # Multiply the current term of first  \n",
        "        # polynomial with every term of  \n",
        "        # second polynomial. \n",
        "        for j in range(n): \n",
        "            prod[i + j] += A[i] * B[j]; \n",
        "  \n",
        "    return prod;"
      ]
    },
    {
      "cell_type": "markdown",
      "id": "casual-bicycle",
      "metadata": {
        "id": "casual-bicycle"
      },
      "source": [
        "Test your solution using the test cases you've defined above."
      ]
    },
    {
      "cell_type": "code",
      "execution_count": 12,
      "id": "sunset-motor",
      "metadata": {
        "id": "sunset-motor"
      },
      "outputs": [],
      "source": [
        "from jovian.pythondsa import evaluate_test_cases"
      ]
    },
    {
      "cell_type": "code",
      "execution_count": 13,
      "id": "earned-sending",
      "metadata": {
        "colab": {
          "base_uri": "https://localhost:8080/"
        },
        "id": "earned-sending",
        "outputId": "6c5ba9b2-71d4-4fb8-b84b-2e611c77cecd"
      },
      "outputs": [
        {
          "output_type": "stream",
          "name": "stdout",
          "text": [
            "\n",
            "\u001b[1mTEST CASE #0\u001b[0m\n",
            "\n",
            "Input:\n",
            "{'poly1': [2, 0, 5, 7], 'poly2': [3, 4, 2]}\n",
            "\n",
            "Expected Output:\n",
            "[6, 8, 19, 41, 38, 14]\n",
            "\n",
            "\n",
            "Actual Output:\n",
            "[6, 8, 19, 41, 38, 14]\n",
            "\n",
            "Execution Time:\n",
            "0.015 ms\n",
            "\n",
            "Test Result:\n",
            "\u001b[92mPASSED\u001b[0m\n",
            "\n",
            "\n",
            "\u001b[1mTEST CASE #1\u001b[0m\n",
            "\n",
            "Input:\n",
            "{'poly1': [], 'poly2': []}\n",
            "\n",
            "Expected Output:\n",
            "[]\n",
            "\n",
            "\n",
            "Actual Output:\n",
            "[]\n",
            "\n",
            "Execution Time:\n",
            "0.006 ms\n",
            "\n",
            "Test Result:\n",
            "\u001b[92mPASSED\u001b[0m\n",
            "\n",
            "\n",
            "\u001b[1mTEST CASE #2\u001b[0m\n",
            "\n",
            "Input:\n",
            "{'poly1': [8, 7, 6], 'poly2': [1, 2]}\n",
            "\n",
            "Expected Output:\n",
            "[8, 23, 20, 12]\n",
            "\n",
            "\n",
            "Actual Output:\n",
            "[8, 23, 20, 12]\n",
            "\n",
            "Execution Time:\n",
            "0.01 ms\n",
            "\n",
            "Test Result:\n",
            "\u001b[92mPASSED\u001b[0m\n",
            "\n",
            "\n",
            "\u001b[1mTEST CASE #3\u001b[0m\n",
            "\n",
            "Input:\n",
            "{'poly1': [0, 0, 0], 'poly2': [0, 0, 0]}\n",
            "\n",
            "Expected Output:\n",
            "[0, 0, 0, 0, 0]\n",
            "\n",
            "\n",
            "Actual Output:\n",
            "[0, 0, 0, 0, 0]\n",
            "\n",
            "Execution Time:\n",
            "0.009 ms\n",
            "\n",
            "Test Result:\n",
            "\u001b[92mPASSED\u001b[0m\n",
            "\n",
            "\n",
            "\u001b[1mTEST CASE #4\u001b[0m\n",
            "\n",
            "Input:\n",
            "{'poly1': [7, 6, 5], 'poly2': [7, 6, 5]}\n",
            "\n",
            "Expected Output:\n",
            "[49, 84, 106, 60, 25]\n",
            "\n",
            "\n",
            "Actual Output:\n",
            "[49, 84, 106, 60, 25]\n",
            "\n",
            "Execution Time:\n",
            "0.009 ms\n",
            "\n",
            "Test Result:\n",
            "\u001b[92mPASSED\u001b[0m\n",
            "\n",
            "\n",
            "\u001b[1mTEST CASE #5\u001b[0m\n",
            "\n",
            "Input:\n",
            "{'poly1': [12, 6, 5], 'poly2': [12, 6, 5]}\n",
            "\n",
            "Expected Output:\n",
            "[144, 144, 156, 60, 25]\n",
            "\n",
            "\n",
            "Actual Output:\n",
            "[144, 144, 156, 60, 25]\n",
            "\n",
            "Execution Time:\n",
            "0.009 ms\n",
            "\n",
            "Test Result:\n",
            "\u001b[92mPASSED\u001b[0m\n",
            "\n",
            "\n",
            "\u001b[1mSUMMARY\u001b[0m\n",
            "\n",
            "TOTAL: 6, \u001b[92mPASSED\u001b[0m: 6, \u001b[91mFAILED\u001b[0m: 0\n"
          ]
        },
        {
          "output_type": "execute_result",
          "data": {
            "text/plain": [
              "[([6, 8, 19, 41, 38, 14], True, 0.015),\n",
              " ([], True, 0.006),\n",
              " ([8, 23, 20, 12], True, 0.01),\n",
              " ([0, 0, 0, 0, 0], True, 0.009),\n",
              " ([49, 84, 106, 60, 25], True, 0.009),\n",
              " ([144, 144, 156, 60, 25], True, 0.009)]"
            ]
          },
          "metadata": {},
          "execution_count": 13
        }
      ],
      "source": [
        "evaluate_test_cases(multiply_basic, tests)"
      ]
    },
    {
      "cell_type": "markdown",
      "id": "associate-platform",
      "metadata": {
        "id": "associate-platform"
      },
      "source": [
        "### 5. Analyze the algorithm's complexity and identify inefficiencies, if any.\n",
        "\n",
        "Can you analyze the time and space complexity of this algorithm?"
      ]
    },
    {
      "cell_type": "code",
      "execution_count": 14,
      "id": "aerial-motorcycle",
      "metadata": {
        "id": "aerial-motorcycle"
      },
      "outputs": [],
      "source": [
        "multiply_basic_time_complexity = 'O(n^2)'"
      ]
    },
    {
      "cell_type": "code",
      "execution_count": 15,
      "id": "sustained-chicago",
      "metadata": {
        "id": "sustained-chicago"
      },
      "outputs": [],
      "source": [
        "multiply_basic_space_complexity = 'O(n)'"
      ]
    },
    {
      "cell_type": "markdown",
      "id": "corresponding-gasoline",
      "metadata": {
        "id": "corresponding-gasoline"
      },
      "source": [
        "###  Implement the solution and test it using example inputs. Fix bugs, if any.\n",
        "\n",
        "We are now ready to implement the solution. You may find the following functions `add`, `split` and `increase_exponent` useful.\n"
      ]
    },
    {
      "cell_type": "code",
      "execution_count": 16,
      "id": "planned-budapest",
      "metadata": {
        "id": "planned-budapest"
      },
      "outputs": [],
      "source": [
        "def add(poly1, poly2):\n",
        "    \"\"\"Add two polynomials\"\"\"\n",
        "    result = [0] * max(len(poly1), len(poly2))\n",
        "    for i in range(len(result)):\n",
        "        if i < len(poly1):\n",
        "            result[i] += poly1[i]\n",
        "        if i < len(poly2):\n",
        "            result[i] += poly2[i]\n",
        "    return result"
      ]
    },
    {
      "cell_type": "code",
      "execution_count": 17,
      "id": "amazing-sympathy",
      "metadata": {
        "colab": {
          "base_uri": "https://localhost:8080/"
        },
        "id": "amazing-sympathy",
        "outputId": "c9a21119-f06a-4e66-f586-b3d384518627"
      },
      "outputs": [
        {
          "output_type": "execute_result",
          "data": {
            "text/plain": [
              "[1, 6, 6, 4]"
            ]
          },
          "metadata": {},
          "execution_count": 17
        }
      ],
      "source": [
        "add([1, 2, 3, 4], [0, 4, 3])"
      ]
    },
    {
      "cell_type": "code",
      "execution_count": 18,
      "id": "objective-stone",
      "metadata": {
        "id": "objective-stone"
      },
      "outputs": [],
      "source": [
        "def split(poly1, poly2):\n",
        "    \"\"\"Split each polynomial into two smaller polynomials\"\"\"\n",
        "    mid = max(len(poly1), len(poly2)) // 2\n",
        "    return  (poly1[:mid], poly1[mid:]), (poly2[:mid], poly2[mid:])"
      ]
    },
    {
      "cell_type": "code",
      "execution_count": 19,
      "id": "saving-folder",
      "metadata": {
        "colab": {
          "base_uri": "https://localhost:8080/"
        },
        "id": "saving-folder",
        "outputId": "78970d30-4e7e-4ef4-be92-9f35aa922115"
      },
      "outputs": [
        {
          "output_type": "execute_result",
          "data": {
            "text/plain": [
              "(([1, 2, 3], [4]), ([0, 4, 3], [6, 7, 8, 2]))"
            ]
          },
          "metadata": {},
          "execution_count": 19
        }
      ],
      "source": [
        "split([1, 2, 3, 4], [0, 4, 3, 6, 7, 8, 2])"
      ]
    },
    {
      "cell_type": "code",
      "execution_count": 20,
      "id": "ethical-bradford",
      "metadata": {
        "id": "ethical-bradford"
      },
      "outputs": [],
      "source": [
        "def increase_exponent(poly, n):\n",
        "    \"\"\"Multiply poly1 by x^n\"\"\"\n",
        "    return [0] * n + poly"
      ]
    },
    {
      "cell_type": "code",
      "execution_count": 21,
      "id": "saving-arrangement",
      "metadata": {
        "colab": {
          "base_uri": "https://localhost:8080/"
        },
        "id": "saving-arrangement",
        "outputId": "d35d7f46-32fa-404c-b428-57b2b39e6ad2"
      },
      "outputs": [
        {
          "output_type": "execute_result",
          "data": {
            "text/plain": [
              "[0, 0, 0, 1, 2, 3, 4]"
            ]
          },
          "metadata": {},
          "execution_count": 21
        }
      ],
      "source": [
        "increase_exponent([1, 2, 3, 4], 3)"
      ]
    },
    {
      "cell_type": "markdown",
      "id": "under-effectiveness",
      "metadata": {
        "id": "under-effectiveness"
      },
      "source": [
        "Implement the optimized multiplication algorithm below. You may use the some or all of the helper functions defined above."
      ]
    },
    {
      "cell_type": "code",
      "source": [
        "def sub(poly1, poly2):\n",
        "    \"\"\"Subtract two polynomials\"\"\"\n",
        "    result = [0] * max(len(poly1), len(poly2))\n",
        "    for i in range(len(result)):\n",
        "        if i < len(poly1):\n",
        "            result[i] += poly1[i]\n",
        "        if i < len(poly2):\n",
        "            result[i] -= poly2[i]\n",
        "    return result"
      ],
      "metadata": {
        "id": "8xI--fxRjFy_"
      },
      "id": "8xI--fxRjFy_",
      "execution_count": 22,
      "outputs": []
    },
    {
      "cell_type": "code",
      "execution_count": 23,
      "id": "starting-characterization",
      "metadata": {
        "id": "starting-characterization"
      },
      "outputs": [],
      "source": [
        "def multiply_optimized(poly1, poly2):\n",
        "    product=0\n",
        "    if len(poly1) == 1 :\n",
        "        product = [poly1[0]* poly2[i] for i in range(len(poly2)) ]\n",
        "    elif len(poly2)==1:\n",
        "        product=[poly2[0]* poly1[i] for i in range(len(poly1)) ]\n",
        "    elif len(poly2)==0:\n",
        "        product=[poly2[0]* poly1[i] for i in range(len(poly1)) ]\n",
        "    elif len(poly1) == 0:\n",
        "        product = [poly1* poly2[i] for i in range(len(poly2)) ]\n",
        "    else:\n",
        "        n = max(len(poly1),len(poly2))\n",
        "        poly1,poly2 = split(poly1,poly2)\n",
        "        Y = multiply_optimized(add(poly1[0],poly1[1]), add(poly2[0],poly2[1]))\n",
        "        U = multiply_optimized(poly1[0],poly2[0])\n",
        "        Z = multiply_optimized(poly1[1],poly2[1])\n",
        " \n",
        "        product = add(U,add(increase_exponent(sub(Y,add(U,Z)),n//2), increase_exponent(Z,2*(n//2))))\n",
        "    return product"
      ]
    },
    {
      "cell_type": "markdown",
      "id": "novel-scout",
      "metadata": {
        "id": "novel-scout"
      },
      "source": [
        "Test your solution using the empty cells below."
      ]
    },
    {
      "cell_type": "code",
      "execution_count": 24,
      "id": "operating-ecology",
      "metadata": {
        "colab": {
          "base_uri": "https://localhost:8080/"
        },
        "id": "operating-ecology",
        "outputId": "8e7764b9-af9f-4ee8-ef83-3d6a5da85860"
      },
      "outputs": [
        {
          "output_type": "stream",
          "name": "stdout",
          "text": [
            "\n",
            "\u001b[1mTEST CASE #0\u001b[0m\n",
            "\n",
            "Input:\n",
            "{'poly1': [2, 0, 5, 7], 'poly2': [3, 4, 2]}\n",
            "\n",
            "Expected Output:\n",
            "[6, 8, 19, 41, 38, 14]\n",
            "\n",
            "\n",
            "Actual Output:\n",
            "[6, 8, 19, 41, 38, 14]\n",
            "\n",
            "Execution Time:\n",
            "0.105 ms\n",
            "\n",
            "Test Result:\n",
            "\u001b[92mPASSED\u001b[0m\n",
            "\n",
            "\n",
            "\u001b[1mTEST CASE #1\u001b[0m\n",
            "\n",
            "Input:\n",
            "{'poly1': [], 'poly2': []}\n",
            "\n",
            "Expected Output:\n",
            "[]\n",
            "\n",
            "\n",
            "Actual Output:\n",
            "[]\n",
            "\n",
            "Execution Time:\n",
            "0.008 ms\n",
            "\n",
            "Test Result:\n",
            "\u001b[92mPASSED\u001b[0m\n",
            "\n",
            "\n",
            "\u001b[1mTEST CASE #2\u001b[0m\n",
            "\n",
            "Input:\n",
            "{'poly1': [8, 7, 6], 'poly2': [1, 2]}\n",
            "\n",
            "Expected Output:\n",
            "[8, 23, 20, 12]\n",
            "\n",
            "\n",
            "Actual Output:\n",
            "[8, 23, 20, 12]\n",
            "\n",
            "Execution Time:\n",
            "0.049 ms\n",
            "\n",
            "Test Result:\n",
            "\u001b[92mPASSED\u001b[0m\n",
            "\n",
            "\n",
            "\u001b[1mTEST CASE #3\u001b[0m\n",
            "\n",
            "Input:\n",
            "{'poly1': [0, 0, 0], 'poly2': [0, 0, 0]}\n",
            "\n",
            "Expected Output:\n",
            "[0, 0, 0, 0, 0]\n",
            "\n",
            "\n",
            "Actual Output:\n",
            "[0, 0, 0, 0, 0]\n",
            "\n",
            "Execution Time:\n",
            "0.109 ms\n",
            "\n",
            "Test Result:\n",
            "\u001b[92mPASSED\u001b[0m\n",
            "\n",
            "\n",
            "\u001b[1mTEST CASE #4\u001b[0m\n",
            "\n",
            "Input:\n",
            "{'poly1': [7, 6, 5], 'poly2': [7, 6, 5]}\n",
            "\n",
            "Expected Output:\n",
            "[49, 84, 106, 60, 25]\n",
            "\n",
            "\n",
            "Actual Output:\n",
            "[49, 84, 106, 60, 25]\n",
            "\n",
            "Execution Time:\n",
            "0.091 ms\n",
            "\n",
            "Test Result:\n",
            "\u001b[92mPASSED\u001b[0m\n",
            "\n",
            "\n",
            "\u001b[1mTEST CASE #5\u001b[0m\n",
            "\n",
            "Input:\n",
            "{'poly1': [12, 6, 5], 'poly2': [12, 6, 5]}\n",
            "\n",
            "Expected Output:\n",
            "[144, 144, 156, 60, 25]\n",
            "\n",
            "\n",
            "Actual Output:\n",
            "[144, 144, 156, 60, 25]\n",
            "\n",
            "Execution Time:\n",
            "0.087 ms\n",
            "\n",
            "Test Result:\n",
            "\u001b[92mPASSED\u001b[0m\n",
            "\n",
            "\n",
            "\u001b[1mSUMMARY\u001b[0m\n",
            "\n",
            "TOTAL: 6, \u001b[92mPASSED\u001b[0m: 6, \u001b[91mFAILED\u001b[0m: 0\n"
          ]
        },
        {
          "output_type": "execute_result",
          "data": {
            "text/plain": [
              "[([6, 8, 19, 41, 38, 14], True, 0.105),\n",
              " ([], True, 0.008),\n",
              " ([8, 23, 20, 12], True, 0.049),\n",
              " ([0, 0, 0, 0, 0], True, 0.109),\n",
              " ([49, 84, 106, 60, 25], True, 0.091),\n",
              " ([144, 144, 156, 60, 25], True, 0.087)]"
            ]
          },
          "metadata": {},
          "execution_count": 24
        }
      ],
      "source": [
        "from jovian.pythondsa import evaluate_test_cases\n",
        "evaluate_test_cases(multiply_optimized, tests)"
      ]
    }
  ],
  "metadata": {
    "kernelspec": {
      "display_name": "Python 3",
      "language": "python",
      "name": "python3"
    },
    "language_info": {
      "codemirror_mode": {
        "name": "ipython",
        "version": 3
      },
      "file_extension": ".py",
      "mimetype": "text/x-python",
      "name": "python",
      "nbconvert_exporter": "python",
      "pygments_lexer": "ipython3",
      "version": "3.6.12"
    },
    "colab": {
      "name": "Assignment divide and conquer.ipynb",
      "provenance": [],
      "collapsed_sections": [],
      "include_colab_link": true
    }
  },
  "nbformat": 4,
  "nbformat_minor": 5
}