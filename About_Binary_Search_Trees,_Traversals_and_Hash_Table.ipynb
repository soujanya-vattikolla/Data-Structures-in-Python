{
  "nbformat": 4,
  "nbformat_minor": 0,
  "metadata": {
    "colab": {
      "name": "About_Binary Search Trees, Traversals and Hash Table.ipynb",
      "provenance": [],
      "collapsed_sections": [],
      "authorship_tag": "ABX9TyNYmSNbyPGqb5xVcZlTsQbe",
      "include_colab_link": true
    },
    "kernelspec": {
      "name": "python3",
      "display_name": "Python 3"
    },
    "language_info": {
      "name": "python"
    }
  },
  "cells": [
    {
      "cell_type": "markdown",
      "metadata": {
        "id": "view-in-github",
        "colab_type": "text"
      },
      "source": [
        "<a href=\"https://colab.research.google.com/github/soujanya-vattikolla/Data-Structures-in-Python/blob/main/About_Binary_Search_Trees%2C_Traversals_and_Hash_Table.ipynb\" target=\"_parent\"><img src=\"https://colab.research.google.com/assets/colab-badge.svg\" alt=\"Open In Colab\"/></a>"
      ]
    },
    {
      "cell_type": "markdown",
      "source": [
        "**What is the purpose of defining the functions __str__ and __repr__ within a class?**<br>\n",
        "str() and repr() both are used to get a string representation of object.<br>\n",
        "str() is used for creating output for end user and it is more readable<br>\n",
        "repr() is used for debugging and development and is to be unambiguous<br>\n"
      ],
      "metadata": {
        "id": "C6_rwCqbJtEx"
      }
    },
    {
      "cell_type": "code",
      "source": [
        "# example for str():\n",
        "\n",
        "s = 'Hello everyone'\n",
        "print(str(s))\n",
        "print(str(2.0/11.0))"
      ],
      "metadata": {
        "colab": {
          "base_uri": "https://localhost:8080/"
        },
        "id": "pxk4pYG8LZy_",
        "outputId": "0b6947e4-b9f9-4c98-df09-c07f2e3c1f24"
      },
      "execution_count": null,
      "outputs": [
        {
          "output_type": "stream",
          "name": "stdout",
          "text": [
            "Hello everyone\n",
            "0.18181818181818182\n"
          ]
        }
      ]
    },
    {
      "cell_type": "code",
      "source": [
        "# example for reor()\n",
        "\n",
        "s = 'Hello everyone'\n",
        "print(repr(s))\n",
        "print(repr(2.0/11.0))\n"
      ],
      "metadata": {
        "colab": {
          "base_uri": "https://localhost:8080/"
        },
        "id": "cDuQGI6WLm0C",
        "outputId": "9d8fb005-53f7-4731-e21a-0b5ec9ba35a2"
      },
      "execution_count": null,
      "outputs": [
        {
          "output_type": "stream",
          "name": "stdout",
          "text": [
            "'Hello everyone'\n",
            "0.18181818181818182\n"
          ]
        }
      ]
    },
    {
      "cell_type": "markdown",
      "source": [
        "From the above output, we can see if we print string using repr() function then it prints with a pair of quotes."
      ],
      "metadata": {
        "id": "injXc_PaLzys"
      }
    },
    {
      "cell_type": "markdown",
      "source": [
        "**Binary Search Tree (BST)**"
      ],
      "metadata": {
        "id": "OPx9QM0kL9Zm"
      }
    },
    {
      "cell_type": "markdown",
      "source": [
        "A Binary Search Tree (BST) is a tree in which all the nodes follow the below-mentioned properties −\n",
        "\n",
        "The value of the key of the left sub-tree is less than the value of its parent (root) node's key.\n",
        "\n",
        "The value of the key of the right sub-tree is greater than or equal to the value of its parent (root) node's key."
      ],
      "metadata": {
        "id": "Fbd-6aDhdMR8"
      }
    },
    {
      "cell_type": "markdown",
      "source": [
        "Each node has a key and an associated value. <br>\n",
        "While searching, the desired key is compared to the keys in BST and if found, the associated value is retrieved."
      ],
      "metadata": {
        "id": "u0IgjGhPdP0M"
      }
    },
    {
      "cell_type": "markdown",
      "source": [
        "**Traversal**"
      ],
      "metadata": {
        "id": "MBvupqc6HemM"
      }
    },
    {
      "cell_type": "markdown",
      "source": [
        "A traversal refers to the process of visiting each node of a tree exactly once.Visiting a node generally refers to adding the node's key to a list.<br>\n",
        "There are three ways to traverse a binary tree and return the list of visited keys.<br>\n",
        "(a) Inorder (Left, Root, Right) <br>\n",
        "(b) Preorder (Root, Left, Right) <br>\n",
        "(c) Postorder (Left, Right, Root) "
      ],
      "metadata": {
        "id": "E55eDQ0GI9X8"
      }
    },
    {
      "cell_type": "markdown",
      "source": [
        "**In order Traversal**<br>\n"
      ],
      "metadata": {
        "id": "UWiB9rebJqY_"
      }
    },
    {
      "cell_type": "markdown",
      "source": [
        "1.   Traverse the left subtree recursively inorder.\n",
        "2.   Traverse the current node.\n",
        "3.   Traverse the right subtree recursively inorder.<br>\n",
        "\n"
      ],
      "metadata": {
        "id": "dk_-4CYeKMc2"
      }
    },
    {
      "cell_type": "markdown",
      "source": [
        "**Preorder traversal**"
      ],
      "metadata": {
        "id": "b3WCFPzkX6d3"
      }
    },
    {
      "cell_type": "markdown",
      "source": [
        "\n",
        "1. Traverse the current node.\n",
        "2. Traverse the left subtree recursively preorder.\n",
        "3. Traverse the right subtree recursively preorder."
      ],
      "metadata": {
        "id": "QGGFLGsbZKXr"
      }
    },
    {
      "cell_type": "markdown",
      "source": [
        "**Balanced Binary Trees**"
      ],
      "metadata": {
        "id": "Eg00bGE1ZTdT"
      }
    },
    {
      "cell_type": "markdown",
      "source": [
        "1. Ensure that the left subtree is balanced.\n",
        "2. Ensure that the right subtree is balanced.\n",
        "3. Ensure that the difference between heights of left subtree and right subtree is not more than 1."
      ],
      "metadata": {
        "id": "zl9gBkSH6apH"
      }
    },
    {
      "cell_type": "markdown",
      "source": [
        "**Hash Table**"
      ],
      "metadata": {
        "id": "n5l-IV_66nvu"
      }
    },
    {
      "cell_type": "markdown",
      "source": [
        "Dictionaries in Python are implemented using a data structure called **hash table**. <br>\n",
        "A hash table uses a list/array to store the key-value pairs, and uses a hashing function to determine the index for storing or retrieving the data associated with a given key."
      ],
      "metadata": {
        "id": "DxGzlud8_Hes"
      }
    },
    {
      "cell_type": "markdown",
      "source": [
        "**Hashing Function**"
      ],
      "metadata": {
        "id": "MGni7Ejy_Msh"
      }
    },
    {
      "cell_type": "markdown",
      "source": [
        "A hashing function is used to convert strings and other non-numeric data types into numbers, which can then be used as list indices. <br>\n",
        "For instance, if a hashing function converts the string \"Hello\" into the number 4, then the key-value pair ('Hello', '7878787878') will be stored at the position 4 within the data list.<br>\n",
        "\n",
        "Algorithm for hashing, which can convert strings into numeric list indices.\n",
        "\n",
        "1. Iterate over the string, character by character\n",
        "2. Convert each character to a number using Python's built-in ord function.\n",
        "3. Add the numbers for each character to obtain the hash for the entire string\n",
        "4. Take the remainder of the result with the size of the data list"
      ],
      "metadata": {
        "id": "ELZ-hZOJEdlA"
      }
    }
  ]
}