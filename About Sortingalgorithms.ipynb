{
  "nbformat": 4,
  "nbformat_minor": 0,
  "metadata": {
    "colab": {
      "name": "About Sorting algorithms.ipynb",
      "provenance": [],
      "collapsed_sections": [],
      "authorship_tag": "ABX9TyMXfE39KVMWEmxOXDJyr90H",
      "include_colab_link": true
    },
    "kernelspec": {
      "name": "python3",
      "display_name": "Python 3"
    },
    "language_info": {
      "name": "python"
    }
  },
  "cells": [
    {
      "cell_type": "markdown",
      "metadata": {
        "id": "view-in-github",
        "colab_type": "text"
      },
      "source": [
        "<a href=\"https://colab.research.google.com/github/soujanya-vattikolla/Data-Structures-in-Python/blob/main/About%20Sortingalgorithms.ipynb\" target=\"_parent\"><img src=\"https://colab.research.google.com/assets/colab-badge.svg\" alt=\"Open In Colab\"/></a>"
      ]
    },
    {
      "cell_type": "markdown",
      "source": [
        "**What is a Bubble Sort?**"
      ],
      "metadata": {
        "id": "7zznFYFJ_dtT"
      }
    },
    {
      "cell_type": "markdown",
      "source": [
        "Bubble Sort is a sorting algorithm used to sort list items in ascending order by comparing two adjacent values. <br>\n",
        "If the first value is higher than second value, the first value takes the second value position, while second value takes the first value position. If the first value is lower than the second value, then no swapping is done.<br>\n",
        "\n",
        "This process is repeated until all the values in a list have been compared and swapped if necessary."
      ],
      "metadata": {
        "id": "c8m8i4gz_gwa"
      }
    },
    {
      "cell_type": "markdown",
      "source": [
        "1. When sorting large lists it takes too much time and resources.\n",
        "2. The time complexity of the bubble sort is O(n2)"
      ],
      "metadata": {
        "id": "pwg2dQslGrAL"
      }
    },
    {
      "cell_type": "markdown",
      "source": [
        "**Insertion Sort**"
      ],
      "metadata": {
        "id": "W5ld5OJRG4jn"
      }
    },
    {
      "cell_type": "markdown",
      "source": [
        "The array is split into two parts in the insertion sort - **An unsorted part and sorted part.**"
      ],
      "metadata": {
        "id": "Y9xXVr2MJLKN"
      }
    },
    {
      "cell_type": "markdown",
      "source": [
        "The sorted part contains the first element of the array and unsorted part contains the rest of the array. The first element in the unsorted array is compared to the sorted array so that we can place it into a proper array."
      ],
      "metadata": {
        "id": "IluH-4R0JPAU"
      }
    },
    {
      "cell_type": "markdown",
      "source": [
        "**Merge Sort**"
      ],
      "metadata": {
        "id": "1wBCrI5iLV7H"
      }
    },
    {
      "cell_type": "markdown",
      "source": [
        "Merge sort works on the concept of **divide and conquer. ** <br>\n",
        "\n",
        "1. If the input list is empty or contains just one element, it is already sorted. Return it.\n",
        "2. If not, divide the list of numbers into two roughly equal parts.\n",
        "3. Sort each part recursively using the merge sort algorithm. You'll get back two sorted lists.\n",
        "4. Merge the two sorted lists to get a single sorted list"
      ],
      "metadata": {
        "id": "e-M4SVX_LX1P"
      }
    },
    {
      "cell_type": "markdown",
      "source": [
        "**Quicksort**"
      ],
      "metadata": {
        "id": "g2w2Ip4lMAz6"
      }
    },
    {
      "cell_type": "markdown",
      "source": [
        "1. If the list is empty or has just one element, return it. It's already sorted.\n",
        "2. Pick a random element from the list. This element is called a pivot.\n",
        "3. Reorder the list so that all elements with values less than or equal to the pivot come before the pivot, while all elements with values greater than the pivot come after it. This operation is called **partitioning**.\n",
        "4. The pivot element divides the array into two parts which can be sorted independently by making a recursive call to quicksort."
      ],
      "metadata": {
        "id": "o6T0gMo6WZO1"
      }
    }
  ]
}