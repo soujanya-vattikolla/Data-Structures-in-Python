{
  "cells": [
    {
      "cell_type": "markdown",
      "metadata": {
        "id": "view-in-github",
        "colab_type": "text"
      },
      "source": [
        "<a href=\"https://colab.research.google.com/github/soujanya-vattikolla/Data-Structures-in-Python/blob/main/Python_Hash_tables_assignment.ipynb\" target=\"_parent\"><img src=\"https://colab.research.google.com/assets/colab-badge.svg\" alt=\"Open In Colab\"/></a>"
      ]
    },
    {
      "cell_type": "code",
      "execution_count": 1,
      "id": "1027bc2c",
      "metadata": {
        "id": "1027bc2c",
        "colab": {
          "base_uri": "https://localhost:8080/"
        },
        "outputId": "2ff0ae8a-9caa-4c0f-cf04-1deb6a454ba9"
      },
      "outputs": [
        {
          "output_type": "stream",
          "name": "stdout",
          "text": [
            "\u001b[?25l\r\u001b[K     |████▊                           | 10 kB 26.9 MB/s eta 0:00:01\r\u001b[K     |█████████▌                      | 20 kB 25.7 MB/s eta 0:00:01\r\u001b[K     |██████████████▎                 | 30 kB 9.4 MB/s eta 0:00:01\r\u001b[K     |███████████████████             | 40 kB 10.9 MB/s eta 0:00:01\r\u001b[K     |███████████████████████▉        | 51 kB 4.8 MB/s eta 0:00:01\r\u001b[K     |████████████████████████████▋   | 61 kB 5.6 MB/s eta 0:00:01\r\u001b[K     |████████████████████████████████| 68 kB 3.4 MB/s \n",
            "\u001b[?25h  Building wheel for uuid (setup.py) ... \u001b[?25l\u001b[?25hdone\n"
          ]
        }
      ],
      "source": [
        "# Jovian Commit Essentials\n",
        "# Please retain and execute this cell without modifying the contents for `jovian.commit` to work\n",
        "!pip install jovian --upgrade -q\n",
        "import jovian\n",
        "jovian.set_project('python-hash-tables-assignment')\n",
        "jovian.set_colab_id('181iIkmrEBLuuwuySkoVx3ObKykcZdrtr')"
      ]
    },
    {
      "cell_type": "markdown",
      "id": "tough-steps",
      "metadata": {
        "id": "tough-steps"
      },
      "source": [
        "# Assignment 2 - Hash Tables in Python\n"
      ]
    },
    {
      "cell_type": "markdown",
      "id": "average-jaguar",
      "metadata": {
        "id": "average-jaguar"
      },
      "source": [
        "## Problem Statement - Python Dictionaries and Hash Tables\n",
        "\n",
        "In this assignment, you will recreate Python dictionaries from scratch using data structure called *hash table*. Dictionaries in Python are used to store key-value pairs. Keys are used to store and retrieve values. For example, here's a dictionary for storing and retrieving phone numbers using people's names. "
      ]
    },
    {
      "cell_type": "code",
      "execution_count": 2,
      "id": "concerned-array",
      "metadata": {
        "colab": {
          "base_uri": "https://localhost:8080/"
        },
        "id": "concerned-array",
        "outputId": "f497fe5b-24e7-4286-db1e-513e23f3d4ae"
      },
      "outputs": [
        {
          "output_type": "execute_result",
          "data": {
            "text/plain": [
              "{'Aakash': '9489484949', 'Hemanth': '9595949494', 'Siddhant': '9231325312'}"
            ]
          },
          "metadata": {},
          "execution_count": 2
        }
      ],
      "source": [
        "phone_numbers = {\n",
        "  'Aakash' : '9489484949',\n",
        "  'Hemanth' : '9595949494',\n",
        "  'Siddhant' : '9231325312'\n",
        "}\n",
        "phone_numbers"
      ]
    },
    {
      "cell_type": "markdown",
      "id": "applicable-winter",
      "metadata": {
        "id": "applicable-winter"
      },
      "source": [
        "You can access a person's phone number using their name as follows:"
      ]
    },
    {
      "cell_type": "code",
      "execution_count": 3,
      "id": "worldwide-opposition",
      "metadata": {
        "colab": {
          "base_uri": "https://localhost:8080/",
          "height": 36
        },
        "id": "worldwide-opposition",
        "outputId": "bcd27730-587b-4370-8e59-fa213dd08d65"
      },
      "outputs": [
        {
          "output_type": "execute_result",
          "data": {
            "application/vnd.google.colaboratory.intrinsic+json": {
              "type": "string"
            },
            "text/plain": [
              "'9489484949'"
            ]
          },
          "metadata": {},
          "execution_count": 3
        }
      ],
      "source": [
        "phone_numbers['Aakash']"
      ]
    },
    {
      "cell_type": "markdown",
      "id": "moral-optimum",
      "metadata": {
        "id": "moral-optimum"
      },
      "source": [
        "You can store new phone numbers, or update existing ones as follows:"
      ]
    },
    {
      "cell_type": "code",
      "execution_count": 4,
      "id": "occupied-absolute",
      "metadata": {
        "colab": {
          "base_uri": "https://localhost:8080/"
        },
        "id": "occupied-absolute",
        "outputId": "51dd3472-3fb9-4f70-f144-2bd037ebe9a5"
      },
      "outputs": [
        {
          "output_type": "execute_result",
          "data": {
            "text/plain": [
              "{'Aakash': '7878787878',\n",
              " 'Hemanth': '9595949494',\n",
              " 'Siddhant': '9231325312',\n",
              " 'Vishal': '8787878787'}"
            ]
          },
          "metadata": {},
          "execution_count": 4
        }
      ],
      "source": [
        "# Add a new value\n",
        "phone_numbers['Vishal'] = '8787878787'\n",
        "# Update existing value\n",
        "phone_numbers['Aakash'] = '7878787878'\n",
        "# View the updated dictionary\n",
        "phone_numbers"
      ]
    },
    {
      "cell_type": "markdown",
      "id": "attached-architect",
      "metadata": {
        "id": "attached-architect"
      },
      "source": [
        "You can also view all the names and phone numbers stored in `phone_numbers` using a `for` loop."
      ]
    },
    {
      "cell_type": "code",
      "execution_count": 5,
      "id": "worst-atmosphere",
      "metadata": {
        "colab": {
          "base_uri": "https://localhost:8080/"
        },
        "id": "worst-atmosphere",
        "outputId": "64f86c7d-85d3-42ed-e03c-3e26fc21fedc"
      },
      "outputs": [
        {
          "output_type": "stream",
          "name": "stdout",
          "text": [
            "Name: Aakash , Phone Number: 7878787878\n",
            "Name: Hemanth , Phone Number: 9595949494\n",
            "Name: Siddhant , Phone Number: 9231325312\n",
            "Name: Vishal , Phone Number: 8787878787\n"
          ]
        }
      ],
      "source": [
        "for name in phone_numbers:\n",
        "    print('Name:', name, ', Phone Number:', phone_numbers[name])"
      ]
    },
    {
      "cell_type": "markdown",
      "id": "motivated-toolbox",
      "metadata": {
        "id": "motivated-toolbox"
      },
      "source": [
        "Dictionaries in Python are implemented using a data structure called **hash table**. A hash table uses a list/array to store the key-value pairs, and uses a _hashing function_ to determine the index for storing or retrieving the data associated with a given key. \n",
        "\n",
        "Here's a visual representation of a hash table ([source](https://en.wikipedia.org/wiki/Hash_table)):\n",
        "\n",
        "<img src=\"https://i.imgur.com/5dPEmuY.png\" width=\"480\">\n",
        "\n",
        "Your objective in this assignment is to implement a `HashTable` class which supports the following operations:\n",
        "\n",
        "1. **Insert**: Insert a new key-value pair\n",
        "2. **Find**: Find the value associated with a key\n",
        "3. **Update**: Update the value associated with a key\n",
        "5. **List**: List all the keys stored in the hash table\n",
        "\n",
        "The `HashTable` class will have the following structure (note the function signatures):"
      ]
    },
    {
      "cell_type": "code",
      "execution_count": 6,
      "id": "amino-princess",
      "metadata": {
        "id": "amino-princess"
      },
      "outputs": [],
      "source": [
        "class HashTable:\n",
        "    def insert(self, key, value):\n",
        "        \"\"\"Insert a new key-value pair\"\"\"\n",
        "        pass\n",
        "    \n",
        "    def find(self, key):\n",
        "        \"\"\"Find the value associated with a key\"\"\"\n",
        "        pass\n",
        "    \n",
        "    def update(self, key, value):\n",
        "        \"\"\"Change the value associated with a key\"\"\"\n",
        "        pass\n",
        "    \n",
        "    def list_all(self):\n",
        "        \"\"\"List all the keys\"\"\"\n",
        "        pass"
      ]
    },
    {
      "cell_type": "code",
      "execution_count": 7,
      "id": "indian-potential",
      "metadata": {
        "id": "indian-potential"
      },
      "outputs": [],
      "source": [
        "MAX_HASH_TABLE_SIZE = 4096"
      ]
    },
    {
      "cell_type": "markdown",
      "id": "upset-bullet",
      "metadata": {
        "id": "upset-bullet"
      },
      "source": [
        "**QUESTION 1: Create a Python list of size `MAX_HASH_TABLE_SIZE`, with all the values set to `None`.**\n",
        "\n",
        "_Hint_: Use the [`*` operator](https://stackoverflow.com/questions/3459098/create-list-of-single-item-repeated-n-times)."
      ]
    },
    {
      "cell_type": "code",
      "execution_count": 8,
      "id": "expected-responsibility",
      "metadata": {
        "id": "expected-responsibility"
      },
      "outputs": [],
      "source": [
        "# List of size MAX_HASH_TABLE_SIZE with all values None\n",
        "data_list = [None]*4096"
      ]
    },
    {
      "cell_type": "markdown",
      "id": "patient-complexity",
      "metadata": {
        "id": "patient-complexity"
      },
      "source": [
        "If the list was created successfully, the following cells should output `True`."
      ]
    },
    {
      "cell_type": "code",
      "execution_count": 9,
      "id": "cross-certification",
      "metadata": {
        "id": "cross-certification",
        "outputId": "92c1a28f-ff1f-4d79-f5bb-9f2db131cd86",
        "colab": {
          "base_uri": "https://localhost:8080/"
        }
      },
      "outputs": [
        {
          "output_type": "execute_result",
          "data": {
            "text/plain": [
              "True"
            ]
          },
          "metadata": {},
          "execution_count": 9
        }
      ],
      "source": [
        "len(data_list) == 4096"
      ]
    },
    {
      "cell_type": "code",
      "execution_count": 10,
      "id": "controlled-ideal",
      "metadata": {
        "id": "controlled-ideal",
        "outputId": "02913334-a86a-4996-bb21-e6fd7141ff39",
        "colab": {
          "base_uri": "https://localhost:8080/"
        }
      },
      "outputs": [
        {
          "output_type": "execute_result",
          "data": {
            "text/plain": [
              "True"
            ]
          },
          "metadata": {},
          "execution_count": 10
        }
      ],
      "source": [
        "data_list[99] == None"
      ]
    },
    {
      "cell_type": "code",
      "source": [
        "for item in data_list :\n",
        "  assert item == None"
      ],
      "metadata": {
        "id": "GZbEg6XBDvYp"
      },
      "id": "GZbEg6XBDvYp",
      "execution_count": 11,
      "outputs": []
    },
    {
      "cell_type": "markdown",
      "id": "radio-wisconsin",
      "metadata": {
        "id": "radio-wisconsin"
      },
      "source": [
        "### Hashing Function\n",
        "\n",
        "A _hashing function_ is used to convert strings and other non-numeric data types into numbers, which can then be used as list indices. For instance, if a hashing function converts the string `\"Aakash\"` into the number `4`, then the key-value pair `('Aakash', '7878787878')` will be stored at the position `4` within the data list.\n",
        "\n",
        "Here's a simple algorithm for hashing, which can convert strings into numeric list indices.\n",
        "\n",
        "1. Iterate over the string, character by character\n",
        "2. Convert each character to a number using Python's built-in `ord` function.\n",
        "3. Add the numbers for each character to obtain the hash for the entire string \n",
        "4. Take the remainder of the result with the size of the data list\n",
        "\n",
        "\n",
        "**QUESTION 2: Complete the `get_index` function below which implements the hashing algorithm described above.**"
      ]
    },
    {
      "cell_type": "code",
      "execution_count": 12,
      "id": "broken-vertex",
      "metadata": {
        "id": "broken-vertex"
      },
      "outputs": [],
      "source": [
        "def get_index(data_list, a_string):\n",
        "    # Variable to store the result (updated after each iteration)\n",
        "    result = 0\n",
        "    \n",
        "    for a_character in a_string:\n",
        "        # Convert the character to a number (using ord)\n",
        "        a_number = ord(a_character)\n",
        "        # Update result by adding the number\n",
        "        result += a_number\n",
        "    \n",
        "    # Take the remainder of the result with the size of the data list\n",
        "    list_index = result % len(data_list)\n",
        "    return list_index"
      ]
    },
    {
      "cell_type": "markdown",
      "id": "political-plain",
      "metadata": {
        "id": "political-plain"
      },
      "source": [
        "If the `get_index` function was defined correctly, the following cells should output `True`."
      ]
    },
    {
      "cell_type": "code",
      "execution_count": 13,
      "id": "hairy-margin",
      "metadata": {
        "id": "hairy-margin",
        "outputId": "7a73aac3-213b-4ded-80d5-0e17754204ca",
        "colab": {
          "base_uri": "https://localhost:8080/"
        }
      },
      "outputs": [
        {
          "output_type": "execute_result",
          "data": {
            "text/plain": [
              "True"
            ]
          },
          "metadata": {},
          "execution_count": 13
        }
      ],
      "source": [
        "get_index(data_list, '') == 0"
      ]
    },
    {
      "cell_type": "code",
      "execution_count": 14,
      "id": "split-league",
      "metadata": {
        "id": "split-league",
        "outputId": "c20ce2b4-cbe6-47f5-bd7d-bcd7d4673a5e",
        "colab": {
          "base_uri": "https://localhost:8080/"
        }
      },
      "outputs": [
        {
          "output_type": "execute_result",
          "data": {
            "text/plain": [
              "True"
            ]
          },
          "metadata": {},
          "execution_count": 14
        }
      ],
      "source": [
        "get_index(data_list, 'Aakash') == 585"
      ]
    },
    {
      "cell_type": "code",
      "execution_count": 15,
      "id": "insured-romania",
      "metadata": {
        "id": "insured-romania",
        "outputId": "c2533a70-61b9-45be-cc91-17a3712393e6",
        "colab": {
          "base_uri": "https://localhost:8080/"
        }
      },
      "outputs": [
        {
          "output_type": "execute_result",
          "data": {
            "text/plain": [
              "True"
            ]
          },
          "metadata": {},
          "execution_count": 15
        }
      ],
      "source": [
        "get_index(data_list, 'Don O Leary') == 941"
      ]
    },
    {
      "cell_type": "markdown",
      "id": "secret-casting",
      "metadata": {
        "id": "secret-casting"
      },
      "source": [
        "(Optional) Test the `get_index` function using the empty cells below."
      ]
    },
    {
      "cell_type": "code",
      "execution_count": 16,
      "id": "close-speaker",
      "metadata": {
        "id": "close-speaker"
      },
      "outputs": [],
      "source": [
        "data_list2 = [None]*48"
      ]
    },
    {
      "cell_type": "code",
      "execution_count": 17,
      "id": "pleased-metadata",
      "metadata": {
        "id": "pleased-metadata",
        "colab": {
          "base_uri": "https://localhost:8080/"
        },
        "outputId": "a82c42bb-a05a-4920-9f2c-568ee3ec2c3e"
      },
      "outputs": [
        {
          "output_type": "execute_result",
          "data": {
            "text/plain": [
              "20"
            ]
          },
          "metadata": {},
          "execution_count": 17
        }
      ],
      "source": [
        "get_index(data_list2,'Hello')"
      ]
    },
    {
      "cell_type": "code",
      "source": [
        "ord('H')+ord('e')+ord('l')+ord('l')+ord('o')"
      ],
      "metadata": {
        "colab": {
          "base_uri": "https://localhost:8080/"
        },
        "id": "hjNYXjcIGgSh",
        "outputId": "a541eedb-ee95-408c-bdce-a7979de72c76"
      },
      "id": "hjNYXjcIGgSh",
      "execution_count": 18,
      "outputs": [
        {
          "output_type": "execute_result",
          "data": {
            "text/plain": [
              "500"
            ]
          },
          "metadata": {},
          "execution_count": 18
        }
      ]
    },
    {
      "cell_type": "code",
      "source": [
        "500%48"
      ],
      "metadata": {
        "colab": {
          "base_uri": "https://localhost:8080/"
        },
        "id": "hVUjRPyZGujE",
        "outputId": "9ffda0c3-0648-4b90-b489-fa833b169dfe"
      },
      "id": "hVUjRPyZGujE",
      "execution_count": 19,
      "outputs": [
        {
          "output_type": "execute_result",
          "data": {
            "text/plain": [
              "20"
            ]
          },
          "metadata": {},
          "execution_count": 19
        }
      ]
    },
    {
      "cell_type": "code",
      "source": [
        "get_index(data_list2,'Hello') == 20"
      ],
      "metadata": {
        "colab": {
          "base_uri": "https://localhost:8080/"
        },
        "id": "w5o-phGKG5o8",
        "outputId": "bc8e0dd5-69cf-440b-efa0-4753a81e2681"
      },
      "id": "w5o-phGKG5o8",
      "execution_count": 20,
      "outputs": [
        {
          "output_type": "execute_result",
          "data": {
            "text/plain": [
              "True"
            ]
          },
          "metadata": {},
          "execution_count": 20
        }
      ]
    },
    {
      "cell_type": "markdown",
      "id": "conventional-champion",
      "metadata": {
        "id": "conventional-champion"
      },
      "source": [
        "#### Insert\n",
        "\n",
        "To insert a key-value pair into a hash table, we can simply get the hash of the key, and store the pair at that index in the data list."
      ]
    },
    {
      "cell_type": "code",
      "execution_count": 21,
      "id": "applied-receipt",
      "metadata": {
        "id": "applied-receipt"
      },
      "outputs": [],
      "source": [
        "key, value = 'Hello', '7878787878'"
      ]
    },
    {
      "cell_type": "code",
      "execution_count": 22,
      "id": "theoretical-november",
      "metadata": {
        "id": "theoretical-november",
        "outputId": "4a8208ed-839b-421d-e375-9d15225f1901",
        "colab": {
          "base_uri": "https://localhost:8080/"
        }
      },
      "outputs": [
        {
          "output_type": "execute_result",
          "data": {
            "text/plain": [
              "500"
            ]
          },
          "metadata": {},
          "execution_count": 22
        }
      ],
      "source": [
        "idx = get_index(data_list, key)\n",
        "idx"
      ]
    },
    {
      "cell_type": "code",
      "execution_count": 23,
      "id": "animated-mason",
      "metadata": {
        "id": "animated-mason"
      },
      "outputs": [],
      "source": [
        "data_list[idx] = (key, value)"
      ]
    },
    {
      "cell_type": "markdown",
      "id": "attended-blend",
      "metadata": {
        "id": "attended-blend"
      },
      "source": [
        "Here's the same operation expressed in a single line of code."
      ]
    },
    {
      "cell_type": "code",
      "execution_count": 24,
      "id": "atlantic-marriage",
      "metadata": {
        "id": "atlantic-marriage"
      },
      "outputs": [],
      "source": [
        "data_list[get_index(data_list, 'Hemanth')] = ('Hemanth', '9595949494')"
      ]
    },
    {
      "cell_type": "markdown",
      "id": "grateful-lyric",
      "metadata": {
        "id": "grateful-lyric"
      },
      "source": [
        "#### Find\n",
        "\n",
        "The retrieve the value associated with a pair, we can get the hash of the key and look up that index in the data list."
      ]
    },
    {
      "cell_type": "code",
      "execution_count": 25,
      "id": "banner-austria",
      "metadata": {
        "id": "banner-austria",
        "outputId": "49357151-2a58-441f-c1ba-b622a1d1dddb",
        "colab": {
          "base_uri": "https://localhost:8080/"
        }
      },
      "outputs": [
        {
          "output_type": "execute_result",
          "data": {
            "text/plain": [
              "500"
            ]
          },
          "metadata": {},
          "execution_count": 25
        }
      ],
      "source": [
        "idx = get_index(data_list, 'Hello')\n",
        "idx"
      ]
    },
    {
      "cell_type": "code",
      "execution_count": 26,
      "id": "conceptual-ensemble",
      "metadata": {
        "id": "conceptual-ensemble",
        "outputId": "7b43f891-df25-4215-99ca-06145a6a5ca0",
        "colab": {
          "base_uri": "https://localhost:8080/",
          "height": 36
        }
      },
      "outputs": [
        {
          "output_type": "execute_result",
          "data": {
            "application/vnd.google.colaboratory.intrinsic+json": {
              "type": "string"
            },
            "text/plain": [
              "'7878787878'"
            ]
          },
          "metadata": {},
          "execution_count": 26
        }
      ],
      "source": [
        "key, value = data_list[idx]\n",
        "value"
      ]
    },
    {
      "cell_type": "code",
      "execution_count": 27,
      "id": "electric-democracy",
      "metadata": {
        "id": "electric-democracy"
      },
      "outputs": [],
      "source": [
        "keys = [keyvalue[0] for keyvalue in data_list if keyvalue is not None]"
      ]
    },
    {
      "cell_type": "code",
      "execution_count": 28,
      "id": "flying-composer",
      "metadata": {
        "id": "flying-composer",
        "outputId": "1e913604-514f-48a2-ba8f-1221b8c33793",
        "colab": {
          "base_uri": "https://localhost:8080/"
        }
      },
      "outputs": [
        {
          "output_type": "execute_result",
          "data": {
            "text/plain": [
              "['Hello', 'Hemanth']"
            ]
          },
          "metadata": {},
          "execution_count": 28
        }
      ],
      "source": [
        "keys"
      ]
    },
    {
      "cell_type": "markdown",
      "id": "geological-medication",
      "metadata": {
        "id": "geological-medication"
      },
      "source": [
        "### Basic Hash Table Implementation\n",
        "\n",
        "We can now use the hashing function defined above to implement a basic hash table in Python.\n",
        "\n",
        "\n",
        "**QUESTION 3: Complete the hash table implementation below by following the instructions in the comments.**\n",
        "\n",
        "_Hint_: Insert and update can have identical implementations.\n"
      ]
    },
    {
      "cell_type": "code",
      "execution_count": 29,
      "id": "hydraulic-moses",
      "metadata": {
        "id": "hydraulic-moses"
      },
      "outputs": [],
      "source": [
        "class BasicHashTable:\n",
        "    def __init__(self, max_size=MAX_HASH_TABLE_SIZE):\n",
        "        # 1. Create a list of size `max_size` with all values None\n",
        "        self.data_list = [None]*max_size\n",
        "     \n",
        "    \n",
        "    def insert(self, key, value):\n",
        "        # 1. Find the index for the key using get_index\n",
        "        idx = get_index(self.data_list, key)\n",
        "        \n",
        "        # 2. Store the key-value pair at the right index\n",
        "        self.data_list[idx] = (key,value)\n",
        "    \n",
        "    \n",
        "    def find(self, key):\n",
        "        # 1. Find the index for the key using get_index\n",
        "        idx = get_index(self.data_list,key)\n",
        "        \n",
        "        # 2. Retrieve the data stored at the index\n",
        "        keyval = self.data_list[idx]\n",
        "        \n",
        "        # 3. Return the value if found, else return None\n",
        "        if keyval is None:\n",
        "            raise IndexError('key not found')\n",
        "        else:\n",
        "            key, value = keyval\n",
        "            return value\n",
        "    \n",
        "    \n",
        "    def update(self, key, value):\n",
        "        # 1. Find the index for the key using get_index\n",
        "        idx = get_index(self.data_list,key)\n",
        "        \n",
        "        # 2. Store the new key-value pair at the right index\n",
        "        self.data_list[idx] = (key,value)\n",
        "\n",
        "    \n",
        "    def list_all(self):\n",
        "        # 1. Extract the key from each key-value pair \n",
        "        return [keyval[0] for keyval in self.data_list if keyval is not None]"
      ]
    },
    {
      "cell_type": "markdown",
      "id": "green-health",
      "metadata": {
        "id": "green-health"
      },
      "source": [
        "If the `BasicHashTable` class was defined correctly, the following cells should output `True`."
      ]
    },
    {
      "cell_type": "code",
      "execution_count": 30,
      "id": "automotive-aerospace",
      "metadata": {
        "id": "automotive-aerospace",
        "outputId": "9989c1bf-bd3e-426c-8ff7-4f8e00114051",
        "colab": {
          "base_uri": "https://localhost:8080/"
        }
      },
      "outputs": [
        {
          "output_type": "execute_result",
          "data": {
            "text/plain": [
              "True"
            ]
          },
          "metadata": {},
          "execution_count": 30
        }
      ],
      "source": [
        "basic_table = BasicHashTable(max_size=1024)\n",
        "len(basic_table.data_list) == 1024"
      ]
    },
    {
      "cell_type": "code",
      "execution_count": 31,
      "id": "awful-contemporary",
      "metadata": {
        "id": "awful-contemporary",
        "outputId": "fa456e23-d033-446f-80ea-ce70d6890915",
        "colab": {
          "base_uri": "https://localhost:8080/",
          "height": 36
        }
      },
      "outputs": [
        {
          "output_type": "execute_result",
          "data": {
            "application/vnd.google.colaboratory.intrinsic+json": {
              "type": "string"
            },
            "text/plain": [
              "'8888888888'"
            ]
          },
          "metadata": {},
          "execution_count": 31
        }
      ],
      "source": [
        "# Insert some values\n",
        "basic_table.insert('Hello', '9999999999')\n",
        "basic_table.insert('Hema', '8888888888')\n",
        "\n",
        "# Find a value\n",
        "basic_table.find('Hema') == '8888888888'\n",
        "basic_table.find('Hema')"
      ]
    },
    {
      "cell_type": "code",
      "execution_count": 32,
      "id": "sustainable-latter",
      "metadata": {
        "id": "sustainable-latter",
        "outputId": "0aeabc2a-6899-442f-e756-76ccdfdc233f",
        "colab": {
          "base_uri": "https://localhost:8080/"
        }
      },
      "outputs": [
        {
          "output_type": "execute_result",
          "data": {
            "text/plain": [
              "True"
            ]
          },
          "metadata": {},
          "execution_count": 32
        }
      ],
      "source": [
        "# Update a value\n",
        "basic_table.update('Hello', '7777777777')\n",
        "\n",
        "# Check the updated value\n",
        "basic_table.find('Hello') == '7777777777'"
      ]
    },
    {
      "cell_type": "code",
      "execution_count": 33,
      "id": "accredited-fruit",
      "metadata": {
        "id": "accredited-fruit",
        "outputId": "7658d1cc-46e2-4fe2-e139-241eb546c02c",
        "colab": {
          "base_uri": "https://localhost:8080/"
        }
      },
      "outputs": [
        {
          "output_type": "execute_result",
          "data": {
            "text/plain": [
              "False"
            ]
          },
          "metadata": {},
          "execution_count": 33
        }
      ],
      "source": [
        "# Get the list of keys\n",
        "basic_table.list_all() == ['Hema']"
      ]
    },
    {
      "cell_type": "markdown",
      "id": "local-fairy",
      "metadata": {
        "id": "local-fairy"
      },
      "source": [
        "### Handling Collisions with Linear Probing\n",
        "\n",
        "As you might have wondered, multiple keys can have the same hash. For instance, the keys `\"listen\"` and `\"silent\"` have the same hash. This is referred to as _collision_. Data stored against one key may override the data stored against another, if they have the same hash.\n"
      ]
    },
    {
      "cell_type": "code",
      "execution_count": 34,
      "id": "designed-bridal",
      "metadata": {
        "id": "designed-bridal"
      },
      "outputs": [],
      "source": [
        "basic_table.insert('listen', 99)"
      ]
    },
    {
      "cell_type": "code",
      "execution_count": 35,
      "id": "removed-coating",
      "metadata": {
        "id": "removed-coating"
      },
      "outputs": [],
      "source": [
        "basic_table.insert('silent', 200)"
      ]
    },
    {
      "cell_type": "code",
      "execution_count": 36,
      "id": "danish-documentation",
      "metadata": {
        "id": "danish-documentation",
        "outputId": "8db8601b-5f1d-4178-ffcc-86cdc7034383",
        "colab": {
          "base_uri": "https://localhost:8080/"
        }
      },
      "outputs": [
        {
          "output_type": "execute_result",
          "data": {
            "text/plain": [
              "200"
            ]
          },
          "metadata": {},
          "execution_count": 36
        }
      ],
      "source": [
        "basic_table.find('listen')"
      ]
    },
    {
      "cell_type": "markdown",
      "id": "focal-intent",
      "metadata": {
        "id": "focal-intent"
      },
      "source": [
        "As you can see above, the value for the key `listen` was overwritten by the value for the key `silent`. Our hash table implementation is incomplete because it does not handle collisions correctly.\n",
        "\n",
        "To handle collisions we'll use a technique called linear probing. Here's how it works: \n",
        "\n",
        "1. While inserting a new key-value pair if the target index for a key is occupied by another key, then we try the next index, followed by the next and so on till we the closest empty location.\n",
        "\n",
        "2. While finding a key-value pair, we apply the same strategy, but instead of searching for an empty location, we look for a location which contains a key-value pair with the matching key.\n",
        "\n",
        "2. While updating a key-value pair, we apply the same strategy, but instead of searching for an empty location, we look for a location which contains a key-value pair with the matching key, and update its value.\n",
        "\n",
        "\n",
        "We'll define a function called `get_valid_index`, which starts searching the data list from the index determined by the hashing function `get_index` and returns the first index which is either empty or contains a key-value pair matching the given key.\n",
        "\n",
        "**QUESTION 4: Complete the function `get_valid_index` below by following the instructions in the comments.**"
      ]
    },
    {
      "cell_type": "code",
      "execution_count": 37,
      "id": "speaking-reform",
      "metadata": {
        "id": "speaking-reform"
      },
      "outputs": [],
      "source": [
        "def get_valid_index(data_list, key):\n",
        "    # Start with the index returned by get_index\n",
        "    idx = get_index(data_list,key)\n",
        "    \n",
        "    while True:\n",
        "        # Get the key-value pair stored at idx\n",
        "        keyval = data_list[idx]\n",
        "        \n",
        "        # If it is None, return the index\n",
        "        if keyval == None:\n",
        "            return idx\n",
        "        \n",
        "        # If the stored key matches the given key, return the index\n",
        "        k, v = keyval\n",
        "        if key == k:\n",
        "            return idx\n",
        "        \n",
        "        # Move to the next index\n",
        "        idx += 1\n",
        "        \n",
        "        # Go back to the start if you have reached the end of the array\n",
        "        if idx == len(data_list):\n",
        "            idx = 0"
      ]
    },
    {
      "cell_type": "markdown",
      "id": "addressed-announcement",
      "metadata": {
        "id": "addressed-announcement"
      },
      "source": [
        "If `get_valid_index` was defined correctly, the following cells should output `True`."
      ]
    },
    {
      "cell_type": "code",
      "execution_count": 38,
      "id": "shared-breathing",
      "metadata": {
        "id": "shared-breathing",
        "outputId": "5a7ccecc-69fe-424b-8f39-f2756dc19f3f",
        "colab": {
          "base_uri": "https://localhost:8080/"
        }
      },
      "outputs": [
        {
          "output_type": "execute_result",
          "data": {
            "text/plain": [
              "True"
            ]
          },
          "metadata": {},
          "execution_count": 38
        }
      ],
      "source": [
        "# Create an empty hash table\n",
        "data_list2 = [None] * MAX_HASH_TABLE_SIZE\n",
        "\n",
        "# New key 'listen' should return expected index\n",
        "get_valid_index(data_list2, 'listen') == 655"
      ]
    },
    {
      "cell_type": "code",
      "execution_count": 39,
      "id": "sophisticated-enterprise",
      "metadata": {
        "id": "sophisticated-enterprise",
        "outputId": "663567dd-a67d-4afc-d4ce-f92e8bfd50e2",
        "colab": {
          "base_uri": "https://localhost:8080/"
        }
      },
      "outputs": [
        {
          "output_type": "execute_result",
          "data": {
            "text/plain": [
              "True"
            ]
          },
          "metadata": {},
          "execution_count": 39
        }
      ],
      "source": [
        "# Insert a key-value pair for the key 'listen'\n",
        "data_list2[get_index(data_list2, 'listen')] = ('listen', 99)\n",
        "\n",
        "# Colliding key 'silent' should return next index\n",
        "get_valid_index(data_list2, 'silent') == 656"
      ]
    },
    {
      "cell_type": "markdown",
      "id": "polish-grill",
      "metadata": {
        "id": "polish-grill"
      },
      "source": [
        "### Hash Table with Linear Probing\n",
        "\n",
        "We can now implement a hash table with linear probing.\n",
        "\n",
        "**QUESTION 5: Complete the hash table (with linear probing) implementation below by following the instructions in the comments.**"
      ]
    },
    {
      "cell_type": "code",
      "execution_count": 40,
      "id": "abstract-stanley",
      "metadata": {
        "id": "abstract-stanley"
      },
      "outputs": [],
      "source": [
        "class ProbingHashTable:\n",
        "    def __init__(self, max_size=MAX_HASH_TABLE_SIZE):\n",
        "        # 1. Create a list of size `max_size` with all values None\n",
        "        self.data_list = [None]*max_size\n",
        "     \n",
        "    \n",
        "    def insert(self, key, value):\n",
        "        # 1. Find the index for the key using get_valid_index\n",
        "        idx = get_valid_index(self.data_list, key)\n",
        "        \n",
        "        # 2. Store the key-value pair at the right index\n",
        "        self.data_list[idx] = (key,value)\n",
        "    \n",
        "    \n",
        "    def find(self, key):\n",
        "        # 1. Find the index for the key using get_valid_index\n",
        "        idx = get_valid_index(self.data_list,key)\n",
        "        \n",
        "        # 2. Retrieve the data stored at the index\n",
        "        keyval = self.data_list[idx]\n",
        "        \n",
        "        # 3. Return the value if found, else return None\n",
        "        return None if keyval is None else keyval[1]\n",
        "    \n",
        "    \n",
        "    def update(self, key, value):\n",
        "        # 1. Find the index for the key using get_valid_index\n",
        "        idx = get_valid_index(self.data_list,key)\n",
        "        \n",
        "        # 2. Store the new key-value pair at the right index\n",
        "        self.data_list[idx] = key,value\n",
        "\n",
        "    \n",
        "    def list_all(self):\n",
        "        # 1. Extract the key from each key-value pair \n",
        "        return [keyval[0] for keyval in self.data_list if keyval is not None]"
      ]
    },
    {
      "cell_type": "markdown",
      "id": "happy-contributor",
      "metadata": {
        "id": "happy-contributor"
      },
      "source": [
        "If the `ProbingHashTable` class was defined correctly, the following cells should output `True`."
      ]
    },
    {
      "cell_type": "code",
      "execution_count": 41,
      "id": "strange-apache",
      "metadata": {
        "id": "strange-apache",
        "outputId": "cc50c129-7344-4924-f54d-ce21b1fac78f",
        "colab": {
          "base_uri": "https://localhost:8080/"
        }
      },
      "outputs": [
        {
          "output_type": "execute_result",
          "data": {
            "text/plain": [
              "True"
            ]
          },
          "metadata": {},
          "execution_count": 41
        }
      ],
      "source": [
        "# Create a new hash table\n",
        "probing_table = ProbingHashTable()\n",
        "\n",
        "# Insert a value\n",
        "probing_table.insert('listen', 99)\n",
        "\n",
        "# Check the value\n",
        "probing_table.find('listen') == 99"
      ]
    },
    {
      "cell_type": "code",
      "execution_count": 42,
      "id": "lovely-boost",
      "metadata": {
        "id": "lovely-boost",
        "outputId": "f8ab5339-250e-4802-96bb-85e5c143052c",
        "colab": {
          "base_uri": "https://localhost:8080/"
        }
      },
      "outputs": [
        {
          "output_type": "execute_result",
          "data": {
            "text/plain": [
              "True"
            ]
          },
          "metadata": {},
          "execution_count": 42
        }
      ],
      "source": [
        "# Insert a colliding key\n",
        "probing_table.insert('silent', 200)\n",
        "\n",
        "# Check the new and old keys\n",
        "probing_table.find('listen') == 99 and probing_table.find('silent') == 200"
      ]
    },
    {
      "cell_type": "code",
      "execution_count": 43,
      "id": "yellow-burlington",
      "metadata": {
        "id": "yellow-burlington",
        "outputId": "b718b574-4d8a-4d55-dd32-41e683e3804a",
        "colab": {
          "base_uri": "https://localhost:8080/"
        }
      },
      "outputs": [
        {
          "output_type": "execute_result",
          "data": {
            "text/plain": [
              "True"
            ]
          },
          "metadata": {},
          "execution_count": 43
        }
      ],
      "source": [
        "# Update a key\n",
        "probing_table.insert('listen', 101)\n",
        "\n",
        "# Check the value\n",
        "probing_table.find('listen') == 101"
      ]
    },
    {
      "cell_type": "code",
      "execution_count": 44,
      "id": "assumed-standing",
      "metadata": {
        "id": "assumed-standing",
        "outputId": "22076c64-4cd1-46ca-be10-d4834066d365",
        "colab": {
          "base_uri": "https://localhost:8080/"
        }
      },
      "outputs": [
        {
          "output_type": "execute_result",
          "data": {
            "text/plain": [
              "True"
            ]
          },
          "metadata": {},
          "execution_count": 44
        }
      ],
      "source": [
        "probing_table.list_all() == ['listen', 'silent']"
      ]
    }
  ],
  "metadata": {
    "kernelspec": {
      "display_name": "Python 3",
      "language": "python",
      "name": "python3"
    },
    "language_info": {
      "codemirror_mode": {
        "name": "ipython",
        "version": 3
      },
      "file_extension": ".py",
      "mimetype": "text/x-python",
      "name": "python",
      "nbconvert_exporter": "python",
      "pygments_lexer": "ipython3",
      "version": "3.6.12"
    },
    "colab": {
      "name": "Python_Hash_tables_assignment.ipynb",
      "provenance": [],
      "collapsed_sections": [],
      "include_colab_link": true
    }
  },
  "nbformat": 4,
  "nbformat_minor": 5
}