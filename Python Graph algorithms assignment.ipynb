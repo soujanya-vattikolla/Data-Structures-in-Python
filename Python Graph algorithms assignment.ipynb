{
  "cells": [
    {
      "cell_type": "markdown",
      "metadata": {
        "id": "view-in-github",
        "colab_type": "text"
      },
      "source": [
        "<a href=\"https://colab.research.google.com/github/soujanya-vattikolla/Data-Structures-in-Python/blob/main/Python%20Graph%20algorithms%20assignment.ipynb\" target=\"_parent\"><img src=\"https://colab.research.google.com/assets/colab-badge.svg\" alt=\"Open In Colab\"/></a>"
      ]
    },
    {
      "cell_type": "code",
      "execution_count": null,
      "id": "3828f7e3",
      "metadata": {
        "colab": {
          "base_uri": "https://localhost:8080/"
        },
        "id": "3828f7e3",
        "outputId": "53b92363-35f2-4af9-dc95-8ff912e522b1"
      },
      "outputs": [
        {
          "output_type": "stream",
          "name": "stdout",
          "text": [
            "\u001b[?25l\r\u001b[K     |████▊                           | 10 kB 19.6 MB/s eta 0:00:01\r\u001b[K     |█████████▌                      | 20 kB 24.8 MB/s eta 0:00:01\r\u001b[K     |██████████████▎                 | 30 kB 29.1 MB/s eta 0:00:01\r\u001b[K     |███████████████████             | 40 kB 32.5 MB/s eta 0:00:01\r\u001b[K     |███████████████████████▉        | 51 kB 23.2 MB/s eta 0:00:01\r\u001b[K     |████████████████████████████▋   | 61 kB 26.0 MB/s eta 0:00:01\r\u001b[K     |████████████████████████████████| 68 kB 5.1 MB/s \n",
            "\u001b[?25h  Building wheel for uuid (setup.py) ... \u001b[?25l\u001b[?25hdone\n"
          ]
        }
      ],
      "source": [
        "# Jovian Commit Essentials\n",
        "# Please retain and execute this cell without modifying the contents for `jovian.commit` to work\n",
        "!pip install jovian --upgrade -q\n",
        "import jovian\n"
      ]
    },
    {
      "cell_type": "markdown",
      "id": "variable-garbage",
      "metadata": {
        "id": "variable-garbage"
      },
      "source": [
        "# Graph Algorithms (Breadth First Search, Depth First Search, Shortest Paths) using Python\n",
        "\n",
        "\n",
        "\n"
      ]
    },
    {
      "cell_type": "markdown",
      "id": "stretch-superior",
      "metadata": {
        "id": "stretch-superior"
      },
      "source": [
        "## Graph Data Strucutre\n",
        "\n",
        "![](https://i.imgur.com/xkgMnwx.png)\n",
        "\n"
      ]
    },
    {
      "cell_type": "code",
      "execution_count": null,
      "id": "settled-medicaid",
      "metadata": {
        "colab": {
          "base_uri": "https://localhost:8080/"
        },
        "id": "settled-medicaid",
        "outputId": "bff14b62-c70e-4176-8689-657de15f693f"
      },
      "outputs": [
        {
          "output_type": "stream",
          "name": "stdout",
          "text": [
            "5 7\n"
          ]
        }
      ],
      "source": [
        "number_nodes = 5\n",
        "number_edges = [(0,1),(0,4),(1,2),(1,3),(1,4),(2,3),(3,4)]\n",
        "print(number_nodes,len(number_edges))"
      ]
    },
    {
      "cell_type": "markdown",
      "id": "white-outdoors",
      "metadata": {
        "id": "white-outdoors"
      },
      "source": [
        "### Adjacency Lists\n",
        "\n",
        "![](https://i.imgur.com/rgMwkIW.png)\n",
        "\n",
        "\n",
        "> **Question**: Create a class to represent a graph as an adjacency list in Python"
      ]
    },
    {
      "cell_type": "code",
      "source": [
        "# to create a range(10) empty lists\n",
        "list_10 = [[] for _ in range(10)]\n",
        "list_10"
      ],
      "metadata": {
        "colab": {
          "base_uri": "https://localhost:8080/"
        },
        "id": "ePnY22HdpYS6",
        "outputId": "f3bdb9a1-8411-444d-c99c-ce646d5324d1"
      },
      "id": "ePnY22HdpYS6",
      "execution_count": null,
      "outputs": [
        {
          "output_type": "execute_result",
          "data": {
            "text/plain": [
              "[[], [], [], [], [], [], [], [], [], []]"
            ]
          },
          "metadata": {},
          "execution_count": 5
        }
      ]
    },
    {
      "cell_type": "code",
      "source": [
        "# to get node1,node2 in edges\n",
        "for node1,node2 in number_edges:\n",
        "    print(\"node1\",node1,\"node2\",node2)"
      ],
      "metadata": {
        "colab": {
          "base_uri": "https://localhost:8080/"
        },
        "id": "_ZKcET3nqHRW",
        "outputId": "fc3ff536-49f6-445c-b9b5-a559333748df"
      },
      "id": "_ZKcET3nqHRW",
      "execution_count": null,
      "outputs": [
        {
          "output_type": "stream",
          "name": "stdout",
          "text": [
            "node1 0 node2 1\n",
            "node1 0 node2 4\n",
            "node1 1 node2 2\n",
            "node1 1 node2 3\n",
            "node1 1 node2 4\n",
            "node1 2 node2 3\n",
            "node1 3 node2 4\n"
          ]
        }
      ]
    },
    {
      "cell_type": "code",
      "execution_count": null,
      "id": "premium-prison",
      "metadata": {
        "id": "premium-prison"
      },
      "outputs": [],
      "source": [
        "class Graph:\n",
        "  def __init__(self,number_nodes,number_edges):\n",
        "    self.number_nodes = number_nodes\n",
        "    self.data = [ [] for _ in range(number_nodes) ]\n",
        "    for node1,node2 in number_edges:\n",
        "      # inserting into right lists\n",
        "      self.data[node1].append(node2)\n",
        "      self.data[node2].append(node1)\n",
        "\n",
        "  def __repr__(self):\n",
        "    return \"\\n\".join([\"{}:{}\".format(node, neighbours) for node,neighbours in enumerate(self.data)])\n",
        "\n",
        "  def __str__(self):\n",
        "    return self.__repr__()"
      ]
    },
    {
      "cell_type": "code",
      "execution_count": null,
      "id": "improving-section",
      "metadata": {
        "id": "improving-section"
      },
      "outputs": [],
      "source": [
        "new_graph = Graph(number_nodes,number_edges)"
      ]
    },
    {
      "cell_type": "code",
      "execution_count": null,
      "id": "speaking-routine",
      "metadata": {
        "colab": {
          "base_uri": "https://localhost:8080/"
        },
        "id": "speaking-routine",
        "outputId": "baf0ef8c-82d1-4a46-c7a0-3b97d6e0d220"
      },
      "outputs": [
        {
          "output_type": "execute_result",
          "data": {
            "text/plain": [
              "[[1, 4], [0, 2, 3, 4], [1, 3], [1, 2, 4], [0, 1, 3]]"
            ]
          },
          "metadata": {},
          "execution_count": 23
        }
      ],
      "source": [
        "new_graph.data"
      ]
    },
    {
      "cell_type": "code",
      "execution_count": null,
      "id": "viral-pendant",
      "metadata": {
        "colab": {
          "base_uri": "https://localhost:8080/"
        },
        "id": "viral-pendant",
        "outputId": "3251a898-4005-4997-e646-81e2f4738bf4"
      },
      "outputs": [
        {
          "output_type": "execute_result",
          "data": {
            "text/plain": [
              "0:[1, 4]\n",
              "1:[0, 2, 3, 4]\n",
              "2:[1, 3]\n",
              "3:[1, 2, 4]\n",
              "4:[0, 1, 3]"
            ]
          },
          "metadata": {},
          "execution_count": 24
        }
      ],
      "source": [
        "new_graph"
      ]
    },
    {
      "cell_type": "markdown",
      "id": "english-action",
      "metadata": {
        "id": "english-action"
      },
      "source": [
        "> **Question**: Write a function to add an edge to a graph represented as an adjacency list. \n",
        "\n",
        "> **Question**: Write a function to remove an edge from a graph represented as a adjacency list.\n"
      ]
    },
    {
      "cell_type": "code",
      "execution_count": null,
      "id": "signed-manor",
      "metadata": {
        "id": "signed-manor"
      },
      "outputs": [],
      "source": [
        "class Graph:\n",
        "  def __init__(self,number_nodes,number_edges):\n",
        "    self.number_nodes = number_nodes\n",
        "    self.data = [ [] for _ in range(number_nodes) ]\n",
        "    for node1,node2 in number_edges:\n",
        "      # inserting into right lists\n",
        "      self.data[node1].append(node2)\n",
        "      self.data[node2].append(node1)\n",
        "\n",
        "  def add_edge(self,node1,node2):\n",
        "      self.data[node1].append(node2)\n",
        "      self.data[node2].append(node1)\n",
        "\n",
        "  def remove_edge(self,node1,node2):\n",
        "      self.data[node1].remove(node2)\n",
        "      self.data[node2].remove(node1)\n",
        "\n",
        "  def __repr__(self):\n",
        "    return \"\\n\".join([\"{}:{}\".format(node, neighbours) for node,neighbours in enumerate(self.data)])\n",
        "\n",
        "  def __str__(self):\n",
        "    return self.__repr__()"
      ]
    },
    {
      "cell_type": "code",
      "source": [
        "# to add a new edge\n",
        "Graph.add_edge(new_graph,0,3)"
      ],
      "metadata": {
        "id": "SmCKdOFUt766"
      },
      "id": "SmCKdOFUt766",
      "execution_count": null,
      "outputs": []
    },
    {
      "cell_type": "code",
      "source": [
        "new_graph"
      ],
      "metadata": {
        "colab": {
          "base_uri": "https://localhost:8080/"
        },
        "id": "Mq9dnigmuGM1",
        "outputId": "669eea6b-85b9-4c55-8cb3-ef13431b6044"
      },
      "id": "Mq9dnigmuGM1",
      "execution_count": null,
      "outputs": [
        {
          "output_type": "execute_result",
          "data": {
            "text/plain": [
              "0:[1, 4, 3]\n",
              "1:[0, 2, 3, 4]\n",
              "2:[1, 3]\n",
              "3:[1, 2, 4, 0]\n",
              "4:[0, 1, 3]"
            ]
          },
          "metadata": {},
          "execution_count": 26
        }
      ]
    },
    {
      "cell_type": "code",
      "source": [
        "# to remove the edge\n",
        "Graph.remove_edge(new_graph,0,3)"
      ],
      "metadata": {
        "id": "YCWDsHA9uGeK"
      },
      "id": "YCWDsHA9uGeK",
      "execution_count": null,
      "outputs": []
    },
    {
      "cell_type": "code",
      "source": [
        "new_graph"
      ],
      "metadata": {
        "colab": {
          "base_uri": "https://localhost:8080/"
        },
        "id": "0ptbsXt2uGjS",
        "outputId": "53b2dd92-1f26-4122-e11a-d03aec2933b2"
      },
      "id": "0ptbsXt2uGjS",
      "execution_count": null,
      "outputs": [
        {
          "output_type": "execute_result",
          "data": {
            "text/plain": [
              "0:[1, 4]\n",
              "1:[0, 2, 3, 4]\n",
              "2:[1, 3]\n",
              "3:[1, 2, 4]\n",
              "4:[0, 1, 3]"
            ]
          },
          "metadata": {},
          "execution_count": 28
        }
      ]
    },
    {
      "cell_type": "markdown",
      "id": "potential-native",
      "metadata": {
        "id": "potential-native"
      },
      "source": [
        "### Adjacency Matrix\n",
        "\n",
        "![](https://i.imgur.com/oswYKTW.png)\n",
        "\n",
        "> **Question**: Represent a graph as an adjacency matrix in Python"
      ]
    },
    {
      "cell_type": "code",
      "execution_count": null,
      "id": "sensitive-iraqi",
      "metadata": {
        "id": "sensitive-iraqi"
      },
      "outputs": [],
      "source": [
        "class AdjacencyMatrix:\n",
        "  def __init__(self,number_nodes,number_edges):\n",
        "    self.table = [[0 for _ in range(number_nodes)] for _ in range(number_nodes)]\n",
        "    for node1,node2 in number_edges:\n",
        "      self.table[node1][node2] = 1\n",
        "      self.table[node2][node1] = 1\n",
        "\n",
        "  def add_edge(self,node1,node2):\n",
        "      self.table[node1][node2] = 1\n",
        "      self.table[node2][node1] = 1\n",
        "\n",
        "  def remove_edge(self,node1,node2):\n",
        "      self.table[node1][node2] = 0\n",
        "      self.table[node2][node1] = 0\n",
        "\n",
        "  def __repr__(self):\n",
        "    return \"\\n\".join([\"{}:{}\".format(node, neighbours) for node,neighbours in enumerate(self.table)])\n",
        "\n",
        "  def __str__(self):\n",
        "    return self.__repr__()"
      ]
    },
    {
      "cell_type": "code",
      "execution_count": null,
      "id": "alleged-means",
      "metadata": {
        "colab": {
          "base_uri": "https://localhost:8080/"
        },
        "id": "alleged-means",
        "outputId": "807c4b54-eead-4164-fdeb-c37fae40db4d"
      },
      "outputs": [
        {
          "output_type": "execute_result",
          "data": {
            "text/plain": [
              "[[0, 0, 0, 0, 0],\n",
              " [0, 0, 0, 0, 0],\n",
              " [0, 0, 0, 0, 0],\n",
              " [0, 0, 0, 0, 0],\n",
              " [0, 0, 0, 0, 0]]"
            ]
          },
          "metadata": {},
          "execution_count": 31
        }
      ],
      "source": [
        "# creating a table for adjacency matrix\n",
        "table= [[0 for _ in range(number_nodes)] for _ in range(number_nodes)]\n",
        "table\n"
      ]
    },
    {
      "cell_type": "code",
      "execution_count": null,
      "id": "modified-check",
      "metadata": {
        "colab": {
          "base_uri": "https://localhost:8080/"
        },
        "id": "modified-check",
        "outputId": "9acd582a-bd3a-4343-a58e-c3b975382b69"
      },
      "outputs": [
        {
          "output_type": "execute_result",
          "data": {
            "text/plain": [
              "0:[0, 1, 0, 0, 1]\n",
              "1:[1, 0, 1, 1, 1]\n",
              "2:[0, 1, 0, 1, 0]\n",
              "3:[0, 1, 1, 0, 1]\n",
              "4:[1, 1, 0, 1, 0]"
            ]
          },
          "metadata": {},
          "execution_count": 35
        }
      ],
      "source": [
        "new_adjacencymatrix = AdjacencyMatrix(number_nodes,number_edges)\n",
        "new_adjacencymatrix"
      ]
    },
    {
      "cell_type": "code",
      "execution_count": null,
      "id": "tutorial-massage",
      "metadata": {
        "colab": {
          "base_uri": "https://localhost:8080/"
        },
        "id": "tutorial-massage",
        "outputId": "f3609199-23c5-4d6c-e5c1-f422aa70fded"
      },
      "outputs": [
        {
          "output_type": "execute_result",
          "data": {
            "text/plain": [
              "0:[0, 1, 0, 1, 1]\n",
              "1:[1, 0, 1, 1, 1]\n",
              "2:[0, 1, 0, 1, 0]\n",
              "3:[1, 1, 1, 0, 1]\n",
              "4:[1, 1, 0, 1, 0]"
            ]
          },
          "metadata": {},
          "execution_count": 36
        }
      ],
      "source": [
        "# to add a new edge\n",
        "new_adjacencymatrix.add_edge(0,3)\n",
        "new_adjacencymatrix"
      ]
    },
    {
      "cell_type": "code",
      "execution_count": null,
      "id": "common-gossip",
      "metadata": {
        "colab": {
          "base_uri": "https://localhost:8080/"
        },
        "id": "common-gossip",
        "outputId": "99415ed3-d4c6-4827-f2fa-ed2a5e6eeac2"
      },
      "outputs": [
        {
          "output_type": "execute_result",
          "data": {
            "text/plain": [
              "0:[0, 1, 0, 0, 1]\n",
              "1:[1, 0, 1, 1, 1]\n",
              "2:[0, 1, 0, 1, 0]\n",
              "3:[0, 1, 1, 0, 1]\n",
              "4:[1, 1, 0, 1, 0]"
            ]
          },
          "metadata": {},
          "execution_count": 37
        }
      ],
      "source": [
        "# to remove a edge\n",
        "new_adjacencymatrix.remove_edge(0,3)\n",
        "new_adjacencymatrix"
      ]
    },
    {
      "cell_type": "markdown",
      "id": "spatial-howard",
      "metadata": {
        "id": "spatial-howard"
      },
      "source": [
        "## Graph Traversal\n",
        "\n",
        "\n",
        "### Breadth-First Search\n",
        "\n",
        "A real-world graph:\n",
        "\n",
        "![](https://upload.wikimedia.org/wikipedia/commons/thumb/a/ad/MapGermanyGraph.svg/500px-MapGermanyGraph.svg.png)\n",
        "\n",
        "Breadth-fist search tree (starting from Frankfurt):\n",
        "\n",
        "![](https://upload.wikimedia.org/wikipedia/commons/thumb/6/63/GermanyBFS.svg/500px-GermanyBFS.svg.png)\n",
        "\n",
        "> **Question**: Implement breadth-first search given a source node in a graph using Python.\n",
        "\n",
        "\n",
        "<img src=\"https://i.imgur.com/E2Up1Pk.png\" width=\"400\">\n",
        "\n",
        "BFS pseudocode (Wikipedia):\n",
        "\n",
        "```\n",
        " 1  procedure BFS(G, root) is\n",
        " 2      let Q be a queue\n",
        " 3      label root as discovered\n",
        " 4      Q.enqueue(root)\n",
        " 5      while Q is not empty do\n",
        " 6          v := Q.dequeue()\n",
        " 7          if v is the goal then\n",
        " 8              return v\n",
        " 9          for all edges from v to w in G.adjacentEdges(v) do\n",
        "10              if w is not labeled as discovered then\n",
        "11                  label w as discovered\n",
        "12                  Q.enqueue(w)\n",
        "```\n",
        "\n"
      ]
    },
    {
      "cell_type": "code",
      "execution_count": null,
      "id": "electoral-religious",
      "metadata": {
        "id": "electoral-religious"
      },
      "outputs": [],
      "source": [
        "# Breadth First Search\n",
        "def breadthfrstsrch(graph,root):\n",
        "  queue = []\n",
        "  discovered = [False] * len(graph.data)\n",
        "  distance = [None]*len(graph.data)\n",
        "  parent = [None]*len(graph.data)\n",
        "\n",
        "  discovered[root] = True\n",
        "  queue.append(root) # adding the root\n",
        "  distance[root] = 0\n",
        "  indx = 0\n",
        "\n",
        "  while indx < len(queue):\n",
        "        # dequeue\n",
        "        current = queue[indx]\n",
        "        indx+= 1\n",
        "\n",
        "        #check all the edges of current\n",
        "        for node in graph.data[current]:\n",
        "            if not discovered[node]:\n",
        "                distance[node] = 1 + distance[current]\n",
        "                parent[node] = current\n",
        "                discovered[node] = True\n",
        "                queue.append(node)\n",
        "  return queue,distance,parent"
      ]
    },
    {
      "cell_type": "code",
      "source": [
        "new_graph"
      ],
      "metadata": {
        "colab": {
          "base_uri": "https://localhost:8080/"
        },
        "id": "FaAanUiX5E96",
        "outputId": "b3ea34c9-f6fd-45f5-a8f9-192afa51237d"
      },
      "id": "FaAanUiX5E96",
      "execution_count": null,
      "outputs": [
        {
          "output_type": "execute_result",
          "data": {
            "text/plain": [
              "0:[1, 4]\n",
              "1:[0, 2, 3, 4]\n",
              "2:[1, 3]\n",
              "3:[1, 2, 4]\n",
              "4:[0, 1, 3]"
            ]
          },
          "metadata": {},
          "execution_count": 39
        }
      ]
    },
    {
      "cell_type": "code",
      "source": [
        "breadthfrstsrch(new_graph,3)"
      ],
      "metadata": {
        "colab": {
          "base_uri": "https://localhost:8080/"
        },
        "id": "9mSdel5Y5IVN",
        "outputId": "a7270cee-751f-4131-c8bd-826d9f7e10ce"
      },
      "id": "9mSdel5Y5IVN",
      "execution_count": null,
      "outputs": [
        {
          "output_type": "execute_result",
          "data": {
            "text/plain": [
              "([3, 1, 2, 4, 0], [2, 1, 1, 0, 1], [1, 3, 3, None, 3])"
            ]
          },
          "metadata": {},
          "execution_count": 49
        }
      ]
    },
    {
      "cell_type": "markdown",
      "source": [
        "<img src=\"https://i.imgur.com/E2Up1Pk.png\" width=\"400\">"
      ],
      "metadata": {
        "id": "LlhcMHOUHycx"
      },
      "id": "LlhcMHOUHycx"
    },
    {
      "cell_type": "markdown",
      "id": "czech-encounter",
      "metadata": {
        "id": "czech-encounter"
      },
      "source": [
        "<img src=\"https://cdn.programiz.com/sites/tutorial2program/files/queue-implementation.png\" width=\"400\">"
      ]
    },
    {
      "cell_type": "markdown",
      "id": "synthetic-defense",
      "metadata": {
        "id": "synthetic-defense"
      },
      "source": [
        "> **Question**: Write a program to check if all the nodes in a graph are connected\n",
        "\n",
        "![](http://www.martinbroadhurst.com/images/connected_components.png)"
      ]
    },
    {
      "cell_type": "code",
      "execution_count": null,
      "id": "premium-cincinnati",
      "metadata": {
        "colab": {
          "base_uri": "https://localhost:8080/"
        },
        "id": "premium-cincinnati",
        "outputId": "6f40425e-bac8-487c-9236-71b038fe8f09"
      },
      "outputs": [
        {
          "output_type": "execute_result",
          "data": {
            "text/plain": [
              "(9, 8)"
            ]
          },
          "metadata": {},
          "execution_count": 52
        }
      ],
      "source": [
        "number_nodes_connected = 9\n",
        "number_edges_connected = [(0, 1), (0, 3), (1, 2), (2, 3), (4, 5), (4, 6), (5, 6), (7, 8)]\n",
        "number_nodes_connected, len(number_edges_connected)"
      ]
    },
    {
      "cell_type": "code",
      "execution_count": null,
      "id": "dominican-louisville",
      "metadata": {
        "id": "dominican-louisville"
      },
      "outputs": [],
      "source": [
        "def check_connect(number_edges_connected, number_nodes_connected):\n",
        "    graph = Graph(number_nodes_connected,number_edges_connected)\n",
        "    if len(breadthfrstsrch(graph,0)) < number_nodes_connected:\n",
        "        print(\"All nodes are not connected\")\n",
        "    else:\n",
        "        print(\"All nodes are connected\")"
      ]
    },
    {
      "cell_type": "code",
      "execution_count": null,
      "id": "agreed-damage",
      "metadata": {
        "colab": {
          "base_uri": "https://localhost:8080/"
        },
        "id": "agreed-damage",
        "outputId": "465ca069-2884-43d6-a9c8-82e31187731c"
      },
      "outputs": [
        {
          "output_type": "execute_result",
          "data": {
            "text/plain": [
              "0:[1, 3]\n",
              "1:[0, 2]\n",
              "2:[1, 3]\n",
              "3:[0, 2]\n",
              "4:[5, 6]\n",
              "5:[4, 6]\n",
              "6:[4, 5]\n",
              "7:[8]\n",
              "8:[7]"
            ]
          },
          "metadata": {},
          "execution_count": 59
        }
      ],
      "source": [
        "graph_connected = Graph(number_nodes_connected,number_edges_connected)\n",
        "graph_connected"
      ]
    },
    {
      "cell_type": "code",
      "execution_count": null,
      "id": "greatest-selection",
      "metadata": {
        "colab": {
          "base_uri": "https://localhost:8080/"
        },
        "id": "greatest-selection",
        "outputId": "943069b1-38aa-48b5-9024-dc6451c98749"
      },
      "outputs": [
        {
          "output_type": "stream",
          "name": "stdout",
          "text": [
            "All nodes are not connected\n"
          ]
        }
      ],
      "source": [
        "check_connect(number_edges_connected,number_nodes_connected)"
      ]
    },
    {
      "cell_type": "markdown",
      "id": "parliamentary-veteran",
      "metadata": {
        "id": "parliamentary-veteran"
      },
      "source": [
        "## Depth-first search\n",
        "\n",
        "![](https://upload.wikimedia.org/wikipedia/commons/thumb/7/7f/Depth-First-Search.gif/440px-Depth-First-Search.gif)\n",
        "\n",
        "\n",
        "> **Question**: Implement depth first search from a given node in a graph using Python.\n",
        "\n",
        "<img src=\"https://i.imgur.com/E2Up1Pk.png\" width=\"400\">\n",
        "\n",
        "DFS pseudocode (Wikipedia):\n",
        "\n",
        "```\n",
        "procedure DFS_iterative(G, v) is\n",
        "    let S be a stack\n",
        "    S.push(v)\n",
        "    while S is not empty do\n",
        "        v = S.pop()\n",
        "        if v is not labeled as discovered then\n",
        "            label v as discovered\n",
        "            for all edges from v to w in G.adjacentEdges(v) do \n",
        "                S.push(w)\n",
        "```\n",
        "\n",
        "\n"
      ]
    },
    {
      "cell_type": "code",
      "execution_count": null,
      "id": "elect-montana",
      "metadata": {
        "id": "elect-montana"
      },
      "outputs": [],
      "source": [
        ""
      ]
    },
    {
      "cell_type": "markdown",
      "id": "descending-amber",
      "metadata": {
        "id": "descending-amber"
      },
      "source": [
        "<img src=\"https://cdn.programiz.com/sites/tutorial2program/files/stack.png\" width=\"400\">"
      ]
    },
    {
      "cell_type": "code",
      "execution_count": null,
      "id": "informal-christmas",
      "metadata": {
        "id": "informal-christmas"
      },
      "outputs": [],
      "source": [
        "# Depth First Search\n",
        "def depthfrstsrch(graph,root):\n",
        "    stack = []\n",
        "    label = [False]*len(graph.data)\n",
        "    result = []\n",
        "    stack.append(root)\n",
        "\n",
        "    while len(stack) > 0:\n",
        "        currentnode = stack.pop()\n",
        "        if not label[currentnode]:\n",
        "            label[currentnode] = True\n",
        "            result.append(currentnode)\n",
        "            for nde in graph.data[currentnode]:\n",
        "                if not label[nde]:\n",
        "                    stack.append(nde)\n",
        "    return result\n",
        "    no"
      ]
    },
    {
      "cell_type": "code",
      "source": [
        "depthfrstsrch(new_graph,3)"
      ],
      "metadata": {
        "colab": {
          "base_uri": "https://localhost:8080/"
        },
        "id": "JkwioNoeL0oC",
        "outputId": "717a0977-c03d-402a-b019-3a4b4bac98e5"
      },
      "id": "JkwioNoeL0oC",
      "execution_count": null,
      "outputs": [
        {
          "output_type": "execute_result",
          "data": {
            "text/plain": [
              "[3, 4, 1, 2, 0]"
            ]
          },
          "metadata": {},
          "execution_count": 76
        }
      ]
    },
    {
      "cell_type": "markdown",
      "id": "broke-carroll",
      "metadata": {
        "id": "broke-carroll"
      },
      "source": [
        "### Weighted Graphs\n",
        "\n",
        "![](https://i.imgur.com/wy7ZHRW.png)\n",
        "\n"
      ]
    },
    {
      "cell_type": "code",
      "execution_count": null,
      "id": "eligible-equipment",
      "metadata": {
        "colab": {
          "base_uri": "https://localhost:8080/"
        },
        "id": "eligible-equipment",
        "outputId": "3314639b-981f-4719-d39d-52ff6166189c"
      },
      "outputs": [
        {
          "output_type": "execute_result",
          "data": {
            "text/plain": [
              "(9, 10)"
            ]
          },
          "metadata": {},
          "execution_count": 77
        }
      ],
      "source": [
        "# Graph with weights\n",
        "number_nodes_weighted = 9\n",
        "number_edges_weighted = [(0, 1, 3), (0, 3, 2), (0, 8, 4), (1, 7, 4), (2, 7, 2), (2, 3, 6), \n",
        "          (2, 5, 1), (3, 4, 1), (4, 8, 8), (5, 6, 8)]\n",
        "\n",
        "number_nodes_weighted, len(number_edges_weighted)"
      ]
    },
    {
      "cell_type": "markdown",
      "id": "abstract-return",
      "metadata": {
        "id": "abstract-return"
      },
      "source": [
        "### Directed Graphs\n",
        "\n",
        "<img src=\"https://i.imgur.com/8AN7EUV.png\" width=\"480\">"
      ]
    },
    {
      "cell_type": "code",
      "execution_count": null,
      "id": "fitted-kruger",
      "metadata": {
        "colab": {
          "base_uri": "https://localhost:8080/"
        },
        "id": "fitted-kruger",
        "outputId": "22ab91ec-7118-4f2b-c4b4-824550b2ccd4"
      },
      "outputs": [
        {
          "output_type": "execute_result",
          "data": {
            "text/plain": [
              "(5, 6)"
            ]
          },
          "metadata": {},
          "execution_count": 78
        }
      ],
      "source": [
        "number_nodes_directed = 5\n",
        "number_edges_directed = [(0, 1), (1, 2), (2, 3), (2, 4), (4, 2), (3, 0)]\n",
        "number_nodes_directed, len(number_edges_directed)"
      ]
    },
    {
      "cell_type": "markdown",
      "id": "posted-peripheral",
      "metadata": {
        "id": "posted-peripheral"
      },
      "source": [
        "## Shortest Paths\n",
        "\n",
        "\n",
        "> **Question**: Write a function to find the length of the shortest path between two nodes in a weighted directed graph.\n",
        "\n",
        "<img src=\"https://i.imgur.com/Zn5cUkO.png\" width=\"480\">\n",
        "\n",
        "\n",
        "**Dijkstra's algorithm (Wikipedia)**:\n",
        "\n",
        "![](https://upload.wikimedia.org/wikipedia/commons/5/57/Dijkstra_Animation.gif)\n",
        "\n",
        "1. Mark all nodes unvisited. Create a set of all the unvisited nodes called the unvisited set.\n",
        "2. Assign to every node a tentative distance value: set it to zero for our initial node and to infinity for all other nodes. Set the initial node as current.[16]\n",
        "3. For the current node, consider all of its unvisited neighbours and calculate their tentative distances through the current node. Compare the newly calculated tentative distance to the current assigned value and assign the smaller one. For example, if the current node A is marked with a distance of 6, and the edge connecting it with a neighbour B has length 2, then the distance to B through A will be 6 + 2 = 8. If B was previously marked with a distance greater than 8 then change it to 8. Otherwise, the current value will be kept.\n",
        "4. When we are done considering all of the unvisited neighbours of the current node, mark the current node as visited and remove it from the unvisited set. A visited node will never be checked again.\n",
        "5. If the destination node has been marked visited (when planning a route between two specific nodes) or if the smallest tentative distance among the nodes in the unvisited set is infinity (when planning a complete traversal; occurs when there is no connection between the initial node and remaining unvisited nodes), then stop. The algorithm has finished.\n",
        "6. Otherwise, select the unvisited node that is marked with the smallest tentative distance, set it as the new \"current node\", and go back to step 3."
      ]
    },
    {
      "cell_type": "code",
      "execution_count": null,
      "id": "certain-today",
      "metadata": {
        "id": "certain-today"
      },
      "outputs": [],
      "source": [
        "#@title\n",
        "def shortest_path(graph, source, target):\n",
        "    visited = [False] * len(graph.data)\n",
        "    distance = [float(\"inf\")]* len(graph.data)\n",
        "    parent = [None] * len(graph.data)\n",
        "    queue = []\n",
        "\n",
        "    distance[source] = 0\n",
        "    queue.append(source)\n",
        "    i = 0\n",
        "    while i < len(queue) and not visited[target]:\n",
        "        current = queue[i]\n",
        "        visited[current] = True \n",
        "        i+=1\n",
        "        update_distances(graph, current, distance, parent)\n",
        "        next_node = pick_next_node(distance, visited)\n",
        "        if next_node:\n",
        "            queue.append(next_node)\n",
        "    return distance[target], parent\n",
        "\n",
        "def update_distances(graph, current, distance, parent=None):\n",
        "    \"\"\"Update the distances of the current node's neighbors\"\"\"\n",
        "    neighbors = graph.data[current]\n",
        "    weights = graph.weight[current]\n",
        "    for i, node in enumerate(neighbors):\n",
        "        weight = weights[i]\n",
        "        if distance[current] + weight < distance[node]:\n",
        "            distance[node] = distance[current] + weight\n",
        "            if parent:\n",
        "                parent[node] = current\n",
        "\n",
        "def pick_next_node(distance, visited):\n",
        "    \"\"\"Pick the next univisited node at the smallest distance\"\"\"\n",
        "    min_distance = float('inf')\n",
        "    min_node = None\n",
        "    for node in range(len(distance)):\n",
        "        if not visited[node] and distance[node] < min_distance:\n",
        "            min_node = node\n",
        "            min_distance = distance[node]\n",
        "    return min_node"
      ]
    },
    {
      "cell_type": "code",
      "execution_count": null,
      "id": "adopted-creek",
      "metadata": {
        "colab": {
          "base_uri": "https://localhost:8080/"
        },
        "id": "adopted-creek",
        "outputId": "9145d7fd-e488-4d9f-e202-676fe544d95c"
      },
      "outputs": [
        {
          "output_type": "execute_result",
          "data": {
            "text/plain": [
              "(6, 7)"
            ]
          },
          "metadata": {},
          "execution_count": 81
        }
      ],
      "source": [
        "number_nodes_shortpath = 6\n",
        "number_edges_shortpath = [(0, 1, 4), (0, 2, 2), (1, 2, 5), (1, 3, 10), (2, 4, 3), (4, 3, 4), (3, 5, 11)]\n",
        "number_nodes_shortpath, len(number_edges_shortpath)"
      ]
    }
  ],
  "metadata": {
    "kernelspec": {
      "display_name": "Python 3",
      "language": "python",
      "name": "python3"
    },
    "language_info": {
      "codemirror_mode": {
        "name": "ipython",
        "version": 3
      },
      "file_extension": ".py",
      "mimetype": "text/x-python",
      "name": "python",
      "nbconvert_exporter": "python",
      "pygments_lexer": "ipython3",
      "version": "3.6.12"
    },
    "colab": {
      "name": "Python Graph algorithms assignment.ipynb",
      "provenance": [],
      "collapsed_sections": [],
      "include_colab_link": true
    }
  },
  "nbformat": 4,
  "nbformat_minor": 5
}